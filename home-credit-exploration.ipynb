{
 "cells": [
  {
   "cell_type": "code",
   "execution_count": 2,
   "metadata": {},
   "outputs": [],
   "source": [
    "import os\n",
    "\n",
    "import numpy as np\n",
    "import matplotlib.pyplot as plt\n",
    "import pandas as pd\n",
    "\n",
    "from sklearn.preprocessing import LabelEncoder, MinMaxScaler, StandardScaler, Imputer\n",
    "from sklearn.metrics import f1_score, accuracy_score\n",
    "from sklearn.model_selection import train_test_split\n",
    "from sklearn.pipeline import Pipeline\n",
    "from sklearn.tree import DecisionTreeClassifier\n",
    "from sklearn.ensemble import RandomForestClassifier\n",
    "from sklearn.svm import SVC, LinearSVC"
   ]
  },
  {
   "cell_type": "code",
   "execution_count": 3,
   "metadata": {
    "scrolled": true
   },
   "outputs": [
    {
     "data": {
      "text/plain": [
       "['.ipynb_checkpoints',\n",
       " 'all.zip',\n",
       " 'application_test.csv',\n",
       " 'application_train.csv',\n",
       " 'bureau.csv',\n",
       " 'bureau_balance.csv',\n",
       " 'credit_card_balance.csv',\n",
       " 'home-credit-exploration.ipynb',\n",
       " 'HomeCredit_columns_description.csv',\n",
       " 'installments_payments.csv',\n",
       " 'POS_CASH_balance.csv',\n",
       " 'previous_application.csv',\n",
       " 'sample_submission.csv']"
      ]
     },
     "execution_count": 3,
     "metadata": {},
     "output_type": "execute_result"
    }
   ],
   "source": [
    "os.listdir()"
   ]
  },
  {
   "cell_type": "code",
   "execution_count": 4,
   "metadata": {
    "scrolled": true
   },
   "outputs": [
    {
     "name": "stdout",
     "output_type": "stream",
     "text": [
      ",Table,Row,Description,Special\n",
      "1,application_{train|test}.csv,SK_ID_CURR,ID of loan in our sample,\n",
      "2,application_{train|test}.csv,TARGET,\"Target variable (1 - client with payment difficulties: he/she had late payment more than X days on at least one of the first Y installments of the loan in our sample, 0 - all other cases)\",\n",
      "5,application_{train|test}.csv,NAME_CONTRACT_TYPE,Identification if loan is cash or revolving,\n",
      "6,application_{train|test}.csv,CODE_GENDER,Gender of the client,\n",
      "7,application_{train|test}.csv,FLAG_OWN_CAR,Flag if the client owns a car,\n",
      "8,application_{train|test}.csv,FLAG_OWN_REALTY,Flag if client owns a house or flat,\n",
      "9,application_{train|test}.csv,CNT_CHILDREN,Number of children the client has,\n",
      "10,application_{train|test}.csv,AMT_INCOME_TOTAL,Income of the client,\n",
      "11,application_{train|test}.csv,AMT_CREDIT,Credit amount of the loan,\n",
      "12,application_{train|test}.csv,AMT_ANNUITY,Loan annuity,\n",
      "13,application_{train|test}.csv,AMT_GOODS_PRICE,For consumer loans it is the price of the goods for which the loan is given,\n",
      "14,application_{train|test}.csv,NAME_TYPE_SUITE,Who was accompanying client when he was applying for the loan,\n",
      "15,application_{train|test}.csv,NAME_INCOME_TYPE,\"Clients income type (businessman, working, maternity leave,…)\",\n",
      "16,application_{train|test}.csv,NAME_EDUCATION_TYPE,Level of highest education the client achieved,\n",
      "17,application_{train|test}.csv,NAME_FAMILY_STATUS,Family status of the client,\n",
      "18,application_{train|test}.csv,NAME_HOUSING_TYPE,\"What is the housing situation of the client (renting, living with parents, ...)\",\n",
      "19,application_{train|test}.csv,REGION_POPULATION_RELATIVE,Normalized population of region where client lives (higher number means the client lives in more populated region),normalized \n",
      "20,application_{train|test}.csv,DAYS_BIRTH,Client's age in days at the time of application,time only relative to the application\n",
      "21,application_{train|test}.csv,DAYS_EMPLOYED,How many days before the application the person started current employment,time only relative to the application\n",
      "22,application_{train|test}.csv,DAYS_REGISTRATION,How many days before the application did client change his registration,time only relative to the application\n",
      "23,application_{train|test}.csv,DAYS_ID_PUBLISH,How many days before the application did client change the identity document with which he applied for the loan,time only relative to the application\n",
      "24,application_{train|test}.csv,OWN_CAR_AGE,Age of client's car,\n",
      "25,application_{train|test}.csv,FLAG_MOBIL,\"Did client provide mobile phone (1=YES, 0=NO)\",\n",
      "26,application_{train|test}.csv,FLAG_EMP_PHONE,\"Did client provide work phone (1=YES, 0=NO)\",\n",
      "27,application_{train|test}.csv,FLAG_WORK_PHONE,\"Did client provide home phone (1=YES, 0=NO)\",\n",
      "28,application_{train|test}.csv,FLAG_CONT_MOBILE,\"Was mobile phone reachable (1=YES, 0=NO)\",\n",
      "29,application_{train|test}.csv,FLAG_PHONE,\"Did client provide home phone (1=YES, 0=NO)\",\n",
      "30,application_{train|test}.csv,FLAG_EMAIL,\"Did client provide email (1=YES, 0=NO)\",\n",
      "31,application_{train|test}.csv,OCCUPATION_TYPE,What kind of occupation does the client have,\n",
      "32,application_{train|test}.csv,CNT_FAM_MEMBERS,How many family members does client have,\n",
      "33,application_{train|test}.csv,REGION_RATING_CLIENT,\"Our rating of the region where client lives (1,2,3)\",\n",
      "34,application_{train|test}.csv,REGION_RATING_CLIENT_W_CITY,\"Our rating of the region where client lives with taking city into account (1,2,3)\",\n",
      "35,application_{train|test}.csv,WEEKDAY_APPR_PROCESS_START,On which day of the week did the client apply for the loan,\n",
      "36,application_{train|test}.csv,HOUR_APPR_PROCESS_START,Approximately at what hour did the client apply for the loan,rounded\n",
      "37,application_{train|test}.csv,REG_REGION_NOT_LIVE_REGION,\"Flag if client's permanent address does not match contact address (1=different, 0=same, at region level)\",\n",
      "38,application_{train|test}.csv,REG_REGION_NOT_WORK_REGION,\"Flag if client's permanent address does not match work address (1=different, 0=same, at region level)\",\n",
      "39,application_{train|test}.csv,LIVE_REGION_NOT_WORK_REGION,\"Flag if client's contact address does not match work address (1=different, 0=same, at region level)\",\n",
      "40,application_{train|test}.csv,REG_CITY_NOT_LIVE_CITY,\"Flag if client's permanent address does not match contact address (1=different, 0=same, at city level)\",\n",
      "41,application_{train|test}.csv,REG_CITY_NOT_WORK_CITY,\"Flag if client's permanent address does not match work address (1=different, 0=same, at city level)\",\n",
      "42,application_{train|test}.csv,LIVE_CITY_NOT_WORK_CITY,\"Flag if client's contact address does not match work address (1=different, 0=same, at city level)\",\n",
      "43,application_{train|test}.csv,ORGANIZATION_TYPE,Type of organization where client works,\n",
      "44,application_{train|test}.csv,EXT_SOURCE_1,Normalized score from external data source,normalized\n",
      "45,application_{train|test}.csv,EXT_SOURCE_2,Normalized score from external data source,normalized\n",
      "46,application_{train|test}.csv,EXT_SOURCE_3,Normalized score from external data source,normalized\n",
      "47,application_{train|test}.csv,APARTMENTS_AVG,\"Normalized information about building where the client lives, What is average (_AVG suffix), modus (_MODE suffix), median (_MEDI suffix) apartment size, common area, living area, age of building, number of elevators, number of entrances, state of the building, number of floor\",normalized\n",
      "48,application_{train|test}.csv,BASEMENTAREA_AVG,\"Normalized information about building where the client lives, What is average (_AVG suffix), modus (_MODE suffix), median (_MEDI suffix) apartment size, common area, living area, age of building, number of elevators, number of entrances, state of the building, number of floor\",normalized\n",
      "49,application_{train|test}.csv,YEARS_BEGINEXPLUATATION_AVG,\"Normalized information about building where the client lives, What is average (_AVG suffix), modus (_MODE suffix), median (_MEDI suffix) apartment size, common area, living area, age of building, number of elevators, number of entrances, state of the building, number of floor\",normalized\n",
      "50,application_{train|test}.csv,YEARS_BUILD_AVG,\"Normalized information about building where the client lives, What is average (_AVG suffix), modus (_MODE suffix), median (_MEDI suffix) apartment size, common area, living area, age of building, number of elevators, number of entrances, state of the building, number of floor\",normalized\n",
      "51,application_{train|test}.csv,COMMONAREA_AVG,\"Normalized information about building where the client lives, What is average (_AVG suffix), modus (_MODE suffix), median (_MEDI suffix) apartment size, common area, living area, age of building, number of elevators, number of entrances, state of the building, number of floor\",normalized\n",
      "52,application_{train|test}.csv,ELEVATORS_AVG,\"Normalized information about building where the client lives, What is average (_AVG suffix), modus (_MODE suffix), median (_MEDI suffix) apartment size, common area, living area, age of building, number of elevators, number of entrances, state of the building, number of floor\",normalized\n",
      "53,application_{train|test}.csv,ENTRANCES_AVG,\"Normalized information about building where the client lives, What is average (_AVG suffix), modus (_MODE suffix), median (_MEDI suffix) apartment size, common area, living area, age of building, number of elevators, number of entrances, state of the building, number of floor\",normalized\n",
      "54,application_{train|test}.csv,FLOORSMAX_AVG,\"Normalized information about building where the client lives, What is average (_AVG suffix), modus (_MODE suffix), median (_MEDI suffix) apartment size, common area, living area, age of building, number of elevators, number of entrances, state of the building, number of floor\",normalized\n",
      "55,application_{train|test}.csv,FLOORSMIN_AVG,\"Normalized information about building where the client lives, What is average (_AVG suffix), modus (_MODE suffix), median (_MEDI suffix) apartment size, common area, living area, age of building, number of elevators, number of entrances, state of the building, number of floor\",normalized\n",
      "56,application_{train|test}.csv,LANDAREA_AVG,\"Normalized information about building where the client lives, What is average (_AVG suffix), modus (_MODE suffix), median (_MEDI suffix) apartment size, common area, living area, age of building, number of elevators, number of entrances, state of the building, number of floor\",normalized\n",
      "57,application_{train|test}.csv,LIVINGAPARTMENTS_AVG,\"Normalized information about building where the client lives, What is average (_AVG suffix), modus (_MODE suffix), median (_MEDI suffix) apartment size, common area, living area, age of building, number of elevators, number of entrances, state of the building, number of floor\",normalized\n",
      "58,application_{train|test}.csv,LIVINGAREA_AVG,\"Normalized information about building where the client lives, What is average (_AVG suffix), modus (_MODE suffix), median (_MEDI suffix) apartment size, common area, living area, age of building, number of elevators, number of entrances, state of the building, number of floor\",normalized\n",
      "59,application_{train|test}.csv,NONLIVINGAPARTMENTS_AVG,\"Normalized information about building where the client lives, What is average (_AVG suffix), modus (_MODE suffix), median (_MEDI suffix) apartment size, common area, living area, age of building, number of elevators, number of entrances, state of the building, number of floor\",normalized\n",
      "60,application_{train|test}.csv,NONLIVINGAREA_AVG,\"Normalized information about building where the client lives, What is average (_AVG suffix), modus (_MODE suffix), median (_MEDI suffix) apartment size, common area, living area, age of building, number of elevators, number of entrances, state of the building, number of floor\",normalized\n",
      "61,application_{train|test}.csv,APARTMENTS_MODE,\"Normalized information about building where the client lives, What is average (_AVG suffix), modus (_MODE suffix), median (_MEDI suffix) apartment size, common area, living area, age of building, number of elevators, number of entrances, state of the building, number of floor\",normalized\n",
      "62,application_{train|test}.csv,BASEMENTAREA_MODE,\"Normalized information about building where the client lives, What is average (_AVG suffix), modus (_MODE suffix), median (_MEDI suffix) apartment size, common area, living area, age of building, number of elevators, number of entrances, state of the building, number of floor\",normalized\n",
      "63,application_{train|test}.csv,YEARS_BEGINEXPLUATATION_MODE,\"Normalized information about building where the client lives, What is average (_AVG suffix), modus (_MODE suffix), median (_MEDI suffix) apartment size, common area, living area, age of building, number of elevators, number of entrances, state of the building, number of floor\",normalized\n",
      "64,application_{train|test}.csv,YEARS_BUILD_MODE,\"Normalized information about building where the client lives, What is average (_AVG suffix), modus (_MODE suffix), median (_MEDI suffix) apartment size, common area, living area, age of building, number of elevators, number of entrances, state of the building, number of floor\",normalized\n",
      "65,application_{train|test}.csv,COMMONAREA_MODE,\"Normalized information about building where the client lives, What is average (_AVG suffix), modus (_MODE suffix), median (_MEDI suffix) apartment size, common area, living area, age of building, number of elevators, number of entrances, state of the building, number of floor\",normalized\n",
      "66,application_{train|test}.csv,ELEVATORS_MODE,\"Normalized information about building where the client lives, What is average (_AVG suffix), modus (_MODE suffix), median (_MEDI suffix) apartment size, common area, living area, age of building, number of elevators, number of entrances, state of the building, number of floor\",normalized\n",
      "67,application_{train|test}.csv,ENTRANCES_MODE,\"Normalized information about building where the client lives, What is average (_AVG suffix), modus (_MODE suffix), median (_MEDI suffix) apartment size, common area, living area, age of building, number of elevators, number of entrances, state of the building, number of floor\",normalized\n",
      "68,application_{train|test}.csv,FLOORSMAX_MODE,\"Normalized information about building where the client lives, What is average (_AVG suffix), modus (_MODE suffix), median (_MEDI suffix) apartment size, common area, living area, age of building, number of elevators, number of entrances, state of the building, number of floor\",normalized\n",
      "69,application_{train|test}.csv,FLOORSMIN_MODE,\"Normalized information about building where the client lives, What is average (_AVG suffix), modus (_MODE suffix), median (_MEDI suffix) apartment size, common area, living area, age of building, number of elevators, number of entrances, state of the building, number of floor\",normalized\n",
      "70,application_{train|test}.csv,LANDAREA_MODE,\"Normalized information about building where the client lives, What is average (_AVG suffix), modus (_MODE suffix), median (_MEDI suffix) apartment size, common area, living area, age of building, number of elevators, number of entrances, state of the building, number of floor\",normalized\n",
      "71,application_{train|test}.csv,LIVINGAPARTMENTS_MODE,\"Normalized information about building where the client lives, What is average (_AVG suffix), modus (_MODE suffix), median (_MEDI suffix) apartment size, common area, living area, age of building, number of elevators, number of entrances, state of the building, number of floor\",normalized\n",
      "72,application_{train|test}.csv,LIVINGAREA_MODE,\"Normalized information about building where the client lives, What is average (_AVG suffix), modus (_MODE suffix), median (_MEDI suffix) apartment size, common area, living area, age of building, number of elevators, number of entrances, state of the building, number of floor\",normalized\n",
      "73,application_{train|test}.csv,NONLIVINGAPARTMENTS_MODE,\"Normalized information about building where the client lives, What is average (_AVG suffix), modus (_MODE suffix), median (_MEDI suffix) apartment size, common area, living area, age of building, number of elevators, number of entrances, state of the building, number of floor\",normalized\n",
      "74,application_{train|test}.csv,NONLIVINGAREA_MODE,\"Normalized information about building where the client lives, What is average (_AVG suffix), modus (_MODE suffix), median (_MEDI suffix) apartment size, common area, living area, age of building, number of elevators, number of entrances, state of the building, number of floor\",normalized\n",
      "75,application_{train|test}.csv,APARTMENTS_MEDI,\"Normalized information about building where the client lives, What is average (_AVG suffix), modus (_MODE suffix), median (_MEDI suffix) apartment size, common area, living area, age of building, number of elevators, number of entrances, state of the building, number of floor\",normalized\n",
      "76,application_{train|test}.csv,BASEMENTAREA_MEDI,\"Normalized information about building where the client lives, What is average (_AVG suffix), modus (_MODE suffix), median (_MEDI suffix) apartment size, common area, living area, age of building, number of elevators, number of entrances, state of the building, number of floor\",normalized\n",
      "77,application_{train|test}.csv,YEARS_BEGINEXPLUATATION_MEDI,\"Normalized information about building where the client lives, What is average (_AVG suffix), modus (_MODE suffix), median (_MEDI suffix) apartment size, common area, living area, age of building, number of elevators, number of entrances, state of the building, number of floor\",normalized\n",
      "78,application_{train|test}.csv,YEARS_BUILD_MEDI,\"Normalized information about building where the client lives, What is average (_AVG suffix), modus (_MODE suffix), median (_MEDI suffix) apartment size, common area, living area, age of building, number of elevators, number of entrances, state of the building, number of floor\",normalized\n",
      "79,application_{train|test}.csv,COMMONAREA_MEDI,\"Normalized information about building where the client lives, What is average (_AVG suffix), modus (_MODE suffix), median (_MEDI suffix) apartment size, common area, living area, age of building, number of elevators, number of entrances, state of the building, number of floor\",normalized\n",
      "80,application_{train|test}.csv,ELEVATORS_MEDI,\"Normalized information about building where the client lives, What is average (_AVG suffix), modus (_MODE suffix), median (_MEDI suffix) apartment size, common area, living area, age of building, number of elevators, number of entrances, state of the building, number of floor\",normalized\n",
      "81,application_{train|test}.csv,ENTRANCES_MEDI,\"Normalized information about building where the client lives, What is average (_AVG suffix), modus (_MODE suffix), median (_MEDI suffix) apartment size, common area, living area, age of building, number of elevators, number of entrances, state of the building, number of floor\",normalized\n",
      "82,application_{train|test}.csv,FLOORSMAX_MEDI,\"Normalized information about building where the client lives, What is average (_AVG suffix), modus (_MODE suffix), median (_MEDI suffix) apartment size, common area, living area, age of building, number of elevators, number of entrances, state of the building, number of floor\",normalized\n",
      "83,application_{train|test}.csv,FLOORSMIN_MEDI,\"Normalized information about building where the client lives, What is average (_AVG suffix), modus (_MODE suffix), median (_MEDI suffix) apartment size, common area, living area, age of building, number of elevators, number of entrances, state of the building, number of floor\",normalized\n",
      "84,application_{train|test}.csv,LANDAREA_MEDI,\"Normalized information about building where the client lives, What is average (_AVG suffix), modus (_MODE suffix), median (_MEDI suffix) apartment size, common area, living area, age of building, number of elevators, number of entrances, state of the building, number of floor\",normalized\n",
      "85,application_{train|test}.csv,LIVINGAPARTMENTS_MEDI,\"Normalized information about building where the client lives, What is average (_AVG suffix), modus (_MODE suffix), median (_MEDI suffix) apartment size, common area, living area, age of building, number of elevators, number of entrances, state of the building, number of floor\",normalized\n",
      "86,application_{train|test}.csv,LIVINGAREA_MEDI,\"Normalized information about building where the client lives, What is average (_AVG suffix), modus (_MODE suffix), median (_MEDI suffix) apartment size, common area, living area, age of building, number of elevators, number of entrances, state of the building, number of floor\",normalized\n",
      "87,application_{train|test}.csv,NONLIVINGAPARTMENTS_MEDI,\"Normalized information about building where the client lives, What is average (_AVG suffix), modus (_MODE suffix), median (_MEDI suffix) apartment size, common area, living area, age of building, number of elevators, number of entrances, state of the building, number of floor\",normalized\n",
      "88,application_{train|test}.csv,NONLIVINGAREA_MEDI,\"Normalized information about building where the client lives, What is average (_AVG suffix), modus (_MODE suffix), median (_MEDI suffix) apartment size, common area, living area, age of building, number of elevators, number of entrances, state of the building, number of floor\",normalized\n",
      "89,application_{train|test}.csv,FONDKAPREMONT_MODE,\"Normalized information about building where the client lives, What is average (_AVG suffix), modus (_MODE suffix), median (_MEDI suffix) apartment size, common area, living area, age of building, number of elevators, number of entrances, state of the building, number of floor\",normalized\n",
      "90,application_{train|test}.csv,HOUSETYPE_MODE,\"Normalized information about building where the client lives, What is average (_AVG suffix), modus (_MODE suffix), median (_MEDI suffix) apartment size, common area, living area, age of building, number of elevators, number of entrances, state of the building, number of floor\",normalized\n",
      "91,application_{train|test}.csv,TOTALAREA_MODE,\"Normalized information about building where the client lives, What is average (_AVG suffix), modus (_MODE suffix), median (_MEDI suffix) apartment size, common area, living area, age of building, number of elevators, number of entrances, state of the building, number of floor\",normalized\n",
      "92,application_{train|test}.csv,WALLSMATERIAL_MODE,\"Normalized information about building where the client lives, What is average (_AVG suffix), modus (_MODE suffix), median (_MEDI suffix) apartment size, common area, living area, age of building, number of elevators, number of entrances, state of the building, number of floor\",normalized\n",
      "93,application_{train|test}.csv,EMERGENCYSTATE_MODE,\"Normalized information about building where the client lives, What is average (_AVG suffix), modus (_MODE suffix), median (_MEDI suffix) apartment size, common area, living area, age of building, number of elevators, number of entrances, state of the building, number of floor\",normalized\n",
      "94,application_{train|test}.csv,OBS_30_CNT_SOCIAL_CIRCLE,How many observation of client's social surroundings with observable 30 DPD (days past due) default,\n",
      "95,application_{train|test}.csv,DEF_30_CNT_SOCIAL_CIRCLE,How many observation of client's social surroundings defaulted on 30 DPD (days past due) ,\n",
      "96,application_{train|test}.csv,OBS_60_CNT_SOCIAL_CIRCLE,How many observation of client's social surroundings with observable 60 DPD (days past due) default,\n",
      "97,application_{train|test}.csv,DEF_60_CNT_SOCIAL_CIRCLE,How many observation of client's social surroundings defaulted on 60 (days past due) DPD,\n",
      "98,application_{train|test}.csv,DAYS_LAST_PHONE_CHANGE,How many days before application did client change phone,\n",
      "99,application_{train|test}.csv,FLAG_DOCUMENT_2,Did client provide document 2,\n",
      "100,application_{train|test}.csv,FLAG_DOCUMENT_3,Did client provide document 3,\n",
      "101,application_{train|test}.csv,FLAG_DOCUMENT_4,Did client provide document 4,\n",
      "102,application_{train|test}.csv,FLAG_DOCUMENT_5,Did client provide document 5,\n",
      "103,application_{train|test}.csv,FLAG_DOCUMENT_6,Did client provide document 6,\n",
      "104,application_{train|test}.csv,FLAG_DOCUMENT_7,Did client provide document 7,\n",
      "105,application_{train|test}.csv,FLAG_DOCUMENT_8,Did client provide document 8,\n",
      "106,application_{train|test}.csv,FLAG_DOCUMENT_9,Did client provide document 9,\n",
      "107,application_{train|test}.csv,FLAG_DOCUMENT_10,Did client provide document 10,\n",
      "108,application_{train|test}.csv,FLAG_DOCUMENT_11,Did client provide document 11,\n",
      "109,application_{train|test}.csv,FLAG_DOCUMENT_12,Did client provide document 12,\n",
      "110,application_{train|test}.csv,FLAG_DOCUMENT_13,Did client provide document 13,\n",
      "111,application_{train|test}.csv,FLAG_DOCUMENT_14,Did client provide document 14,\n",
      "112,application_{train|test}.csv,FLAG_DOCUMENT_15,Did client provide document 15,\n",
      "113,application_{train|test}.csv,FLAG_DOCUMENT_16,Did client provide document 16,\n",
      "114,application_{train|test}.csv,FLAG_DOCUMENT_17,Did client provide document 17,\n",
      "115,application_{train|test}.csv,FLAG_DOCUMENT_18,Did client provide document 18,\n",
      "116,application_{train|test}.csv,FLAG_DOCUMENT_19,Did client provide document 19,\n",
      "117,application_{train|test}.csv,FLAG_DOCUMENT_20,Did client provide document 20,\n",
      "118,application_{train|test}.csv,FLAG_DOCUMENT_21,Did client provide document 21,\n",
      "119,application_{train|test}.csv,AMT_REQ_CREDIT_BUREAU_HOUR,Number of enquiries to Credit Bureau about the client one hour before application,\n",
      "120,application_{train|test}.csv,AMT_REQ_CREDIT_BUREAU_DAY,Number of enquiries to Credit Bureau about the client one day before application (excluding one hour before application),\n",
      "121,application_{train|test}.csv,AMT_REQ_CREDIT_BUREAU_WEEK,Number of enquiries to Credit Bureau about the client one week before application (excluding one day before application),\n",
      "122,application_{train|test}.csv,AMT_REQ_CREDIT_BUREAU_MON,Number of enquiries to Credit Bureau about the client one month before application (excluding one week before application),\n",
      "123,application_{train|test}.csv,AMT_REQ_CREDIT_BUREAU_QRT,Number of enquiries to Credit Bureau about the client 3 month before application (excluding one month before application),\n",
      "124,application_{train|test}.csv,AMT_REQ_CREDIT_BUREAU_YEAR,Number of enquiries to Credit Bureau about the client one day year (excluding last 3 months before application),\n",
      "125,bureau.csv,SK_ID_CURR,\"ID of loan in our sample - one loan in our sample can have 0,1,2 or more related previous credits in credit bureau \",hashed\n",
      "126,bureau.csv,SK_BUREAU_ID,Recoded ID of previous Credit Bureau credit related to our loan (unique coding for each loan application),hashed\n",
      "127,bureau.csv,CREDIT_ACTIVE,Status of the Credit Bureau (CB) reported credits,\n",
      "128,bureau.csv,CREDIT_CURRENCY,Recoded currency of the Credit Bureau credit,recoded\n",
      "129,bureau.csv,DAYS_CREDIT,How many days before current application did client apply for Credit Bureau credit,time only relative to the application\n",
      "130,bureau.csv,CREDIT_DAY_OVERDUE,Number of days past due on CB credit at the time of application for related loan in our sample,\n",
      "131,bureau.csv,DAYS_CREDIT_ENDDATE,Remaining duration of CB credit (in days) at the time of application in Home Credit,time only relative to the application\n",
      "132,bureau.csv,DAYS_ENDDATE_FACT,Days since CB credit ended at the time of application in Home Credit (only for closed credit),time only relative to the application\n",
      "133,bureau.csv,AMT_CREDIT_MAX_OVERDUE,Maximal amount overdue on the Credit Bureau credit so far (at application date of loan in our sample),\n",
      "134,bureau.csv,CNT_CREDIT_PROLONG,How many times was the Credit Bureau credit prolonged,\n",
      "135,bureau.csv,AMT_CREDIT_SUM,Current credit amount for the Credit Bureau credit,\n",
      "136,bureau.csv,AMT_CREDIT_SUM_DEBT,Current debt on Credit Bureau credit,\n",
      "137,bureau.csv,AMT_CREDIT_SUM_LIMIT,Current credit limit of credit card reported in Credit Bureau,\n",
      "138,bureau.csv,AMT_CREDIT_SUM_OVERDUE,Current amount overdue on Credit Bureau credit,\n",
      "139,bureau.csv,CREDIT_TYPE,\"Type of Credit Bureau credit (Car, cash,...)\",\n",
      "140,bureau.csv,DAYS_CREDIT_UPDATE,How many days before loan application did last information about the Credit Bureau credit come,time only relative to the application\n",
      "141,bureau.csv,AMT_ANNUITY,Annuity of the Credit Bureau credit,\n",
      "142,bureau_balance.csv,SK_BUREAU_ID,Recoded ID of Credit Bureau credit (unique coding for each application) - use this to join to CREDIT_BUREAU table ,hashed\n",
      "143,bureau_balance.csv,MONTHS_BALANCE,Month of balance relative to application date (-1 means the freshest balance date),time only relative to the application\n",
      "144,bureau_balance.csv,STATUS,\"Status of Credit Bureau loan during the month (active, closed, DPD0-30,… [C means closed, X means status unknown, 0 means no DPD, 1 means maximal did during month between 1-30, 2 means DPD 31-60,… 5 means DPD 120+ or sold or written off ] )\",\n",
      "145,POS_CASH_balance.csv,SK_ID_PREV ,\"ID of previous credit in Home Credit related to loan in our sample. (One loan in our sample can have 0,1,2 or more previous loans in Home Credit)\",\n",
      "146,POS_CASH_balance.csv,SK_ID_CURR,ID of loan in our sample,\n",
      "147,POS_CASH_balance.csv,MONTHS_BALANCE,\"Month of balance relative to application date (-1 means the information to the freshest monthly snapshot, 0 means the information at application - often it will be the same as -1 as many banks are not updating the information to Credit Bureau regularly )\",time only relative to the application\n",
      "148,POS_CASH_balance.csv,CNT_INSTALMENT,Term of previous credit (can change over time),\n",
      "149,POS_CASH_balance.csv,CNT_INSTALMENT_FUTURE,Installments left to pay on the previous credit,\n",
      "150,POS_CASH_balance.csv,NAME_CONTRACT_STATUS,Contract status during the month,\n",
      "151,POS_CASH_balance.csv,SK_DPD,DPD (days past due) during the month of previous credit,\n",
      "152,POS_CASH_balance.csv,SK_DPD_DEF,DPD during the month with tolerance (debts with low loan amounts are ignored) of the previous credit,\n",
      "153,credit_card_balance.csv,SK_ID_PREV ,\"ID of previous credit in Home credit related to loan in our sample. (One loan in our sample can have 0,1,2 or more previous loans in Home Credit)\",hashed\n",
      "154,credit_card_balance.csv,SK_ID_CURR,ID of loan in our sample,hashed\n",
      "155,credit_card_balance.csv,MONTHS_BALANCE,Month of balance relative to application date (-1 means the freshest balance date),time only relative to the application\n",
      "156,credit_card_balance.csv,AMT_BALANCE,Balance during the month of previous credit,\n",
      "157,credit_card_balance.csv,AMT_CREDIT_LIMIT_ACTUAL,Credit card limit during the month of the previous credit,\n",
      "158,credit_card_balance.csv,AMT_DRAWINGS_ATM_CURRENT,Amount drawing at ATM during the month of the previous credit,\n",
      "159,credit_card_balance.csv,AMT_DRAWINGS_CURRENT,Amount drawing during the month of the previous credit,\n",
      "160,credit_card_balance.csv,AMT_DRAWINGS_OTHER_CURRENT,Amount of other drawings during the month of the previous credit,\n",
      "161,credit_card_balance.csv,AMT_DRAWINGS_POS_CURRENT,Amount drawing or buying goods during the month of the previous credit,\n",
      "162,credit_card_balance.csv,AMT_INST_MIN_REGULARITY,Minimal installment for this month of the previous credit,\n",
      "163,credit_card_balance.csv,AMT_PAYMENT_CURRENT,How much did the client pay during the month on the previous credit,\n",
      "164,credit_card_balance.csv,AMT_PAYMENT_TOTAL_CURRENT,How much did the client pay during the month in total on the previous credit,\n",
      "165,credit_card_balance.csv,AMT_RECEIVABLE_PRINCIPAL,Amount receivable for principal on the previous credit,\n",
      "166,credit_card_balance.csv,AMT_RECIVABLE,Amount receivable on the previous credit,\n",
      "167,credit_card_balance.csv,AMT_TOTAL_RECEIVABLE,Total amount receivable on the previous credit,\n",
      "168,credit_card_balance.csv,CNT_DRAWINGS_ATM_CURRENT,Number of drawings at ATM during this month on the previous credit,\n",
      "169,credit_card_balance.csv,CNT_DRAWINGS_CURRENT,Number of drawings during this month on the previous credit,\n",
      "170,credit_card_balance.csv,CNT_DRAWINGS_OTHER_CURRENT,Number of other drawings during this month on the previous credit,\n",
      "171,credit_card_balance.csv,CNT_DRAWINGS_POS_CURRENT,Number of drawings for goods during this month on the previous credit,\n",
      "172,credit_card_balance.csv,CNT_INSTALMENT_MATURE_CUM,Number of paid installments on the previous credit,\n",
      "173,credit_card_balance.csv,NAME_CONTRACT_STATUS,\"Contract status (active signed,...) on the previous credit\",\n",
      "174,credit_card_balance.csv,SK_DPD,DPD (Days past due) during the month on the previous credit,\n",
      "175,credit_card_balance.csv,SK_DPD_DEF,DPD (Days past due) during the month with tolerance (debts with low loan amounts are ignored) of the previous credit,\n",
      "176,previous_application.csv,SK_ID_PREV ,\"ID of previous credit in Home credit related to loan in our sample. (One loan in our sample can have 0,1,2 or more previous loan applications in Home Credit, previous application could, but not necessarily have to lead to credit) \",hashed\n",
      "177,previous_application.csv,SK_ID_CURR,ID of loan in our sample,hashed\n",
      "178,previous_application.csv,NAME_CONTRACT_TYPE,\"Contract product type (Cash loan, consumer loan [POS] ,...) of the previous application\",\n",
      "179,previous_application.csv,AMT_ANNUITY,Annuity of previous application,\n",
      "180,previous_application.csv,AMT_APPLICATION,For how much credit did client ask on the previous application,\n",
      "181,previous_application.csv,AMT_CREDIT,\"Final credit amount on the previous application. This differs from AMT_APPLICATION in a way that the AMT_APPLICATION is the amount for which the client initially applied for, but during our approval process he could have received different amount - AMT_CREDIT\",\n",
      "182,previous_application.csv,AMT_DOWN_PAYMENT,Down payment on the previous application,\n",
      "183,previous_application.csv,AMT_GOODS_PRICE,Goods price of good that client asked for (if applicable) on the previous application,\n",
      "184,previous_application.csv,WEEKDAY_APPR_PROCESS_START,On which day of the week did the client apply for previous application,\n",
      "185,previous_application.csv,HOUR_APPR_PROCESS_START,Approximately at what day hour did the client apply for the previous application,rounded\n",
      "186,previous_application.csv,FLAG_LAST_APPL_PER_CONTRACT,Flag if it was last application for the previous contract. Sometimes by mistake of client or our clerk there could be more applications for one single contract,\n",
      "187,previous_application.csv,NFLAG_LAST_APPL_IN_DAY,Flag if the application was the last application per day of the client. Sometimes clients apply for more applications a day. Rarely it could also be error in our system that one application is in the database twice,\n",
      "188,previous_application.csv,NFLAG_MICRO_CASH,Flag Micro finance loan,\n",
      "189,previous_application.csv,RATE_DOWN_PAYMENT,Down payment rate normalized on previous credit,normalized\n",
      "190,previous_application.csv,RATE_INTEREST_PRIMARY,Interest rate normalized on previous credit,normalized\n",
      "191,previous_application.csv,RATE_INTEREST_PRIVILEGED,Interest rate normalized on previous credit,normalized\n",
      "192,previous_application.csv,NAME_CASH_LOAN_PURPOSE,Purpose of the cash loan,\n",
      "193,previous_application.csv,NAME_CONTRACT_STATUS,\"Contract status (approved, cancelled, ...) of previous application\",\n",
      "194,previous_application.csv,DAYS_DECISION,Relative to current application when was the decision about previous application made,time only relative to the application\n",
      "195,previous_application.csv,NAME_PAYMENT_TYPE,Payment method that client chose to pay for the previous application,\n",
      "196,previous_application.csv,CODE_REJECT_REASON,Why was the previous application rejected,\n",
      "197,previous_application.csv,NAME_TYPE_SUITE,Who accompanied client when applying for the previous application,\n",
      "198,previous_application.csv,NAME_CLIENT_TYPE,Was the client old or new client when applying for the previous application,\n",
      "199,previous_application.csv,NAME_GOODS_CATEGORY,What kind of goods did the client apply for in the previous application,\n",
      "200,previous_application.csv,NAME_PORTFOLIO,\"Was the previous application for CASH, POS, CAR, …\",\n",
      "201,previous_application.csv,NAME_PRODUCT_TYPE,Was the previous application x-sell o walk-in,\n",
      "202,previous_application.csv,CHANNEL_TYPE,Through which channel we acquired the client on the previous application,\n",
      "203,previous_application.csv,SELLERPLACE_AREA,Selling area of seller place of the previous application,\n",
      "204,previous_application.csv,NAME_SELLER_INDUSTRY,The industry of the seller,\n",
      "205,previous_application.csv,CNT_PAYMENT,Term of previous credit at application of the previous application,\n",
      "206,previous_application.csv,NAME_YIELD_GROUP,Grouped interest rate into small medium and high of the previous application,grouped\n",
      "207,previous_application.csv,PRODUCT_COMBINATION,Detailed product combination of the previous application,\n",
      "208,previous_application.csv,DAYS_FIRST_DRAWING,Relative to application date of current application when was the first disbursement of the previous application,time only relative to the application\n",
      "209,previous_application.csv,DAYS_FIRST_DUE,Relative to application date of current application when was the first due supposed to be of the previous application,time only relative to the application\n",
      "210,previous_application.csv,DAYS_LAST_DUE_1ST_VERSION,Relative to application date of current application when was the first due of the previous application,time only relative to the application\n",
      "211,previous_application.csv,DAYS_LAST_DUE,Relative to application date of current application when was the last due date of the previous application,time only relative to the application\n",
      "212,previous_application.csv,DAYS_TERMINATION,Relative to application date of current application when was the expected termination of the previous application,time only relative to the application\n",
      "213,previous_application.csv,NFLAG_INSURED_ON_APPROVAL,Did the client requested insurance during the previous application,\n",
      "214,installments_payments.csv,SK_ID_PREV ,\"ID of previous credit in Home credit related to loan in our sample. (One loan in our sample can have 0,1,2 or more previous loans in Home Credit)\",hashed\n",
      "215,installments_payments.csv,SK_ID_CURR,ID of loan in our sample,hashed\n",
      "216,installments_payments.csv,NUM_INSTALMENT_VERSION,Version of installment calendar (0 is for credit card) of previous credit. Change of installment version from month to month signifies that some parameter of payment calendar has changed,\n",
      "217,installments_payments.csv,NUM_INSTALMENT_NUMBER,On which installment we observe payment,\n",
      "218,installments_payments.csv,DAYS_INSTALMENT,When the installment of previous credit was supposed to be paid (relative to application date of current loan),time only relative to the application\n",
      "219,installments_payments.csv,DAYS_ENTRY_PAYMENT,When was the installments of previous credit paid actually (relative to application date of current loan),time only relative to the application\n",
      "220,installments_payments.csv,AMT_INSTALMENT,What was the prescribed installment amount of previous credit on this installment,\n",
      "221,installments_payments.csv,AMT_PAYMENT,What the client actually paid on previous credit on this installment,\n",
      "\n"
     ]
    }
   ],
   "source": [
    "with open('HomeCredit_columns_description.csv', 'r') as file:\n",
    "    content = file.read()\n",
    "    print (content)\n",
    "del content"
   ]
  },
  {
   "cell_type": "code",
   "execution_count": 3,
   "metadata": {},
   "outputs": [],
   "source": [
    "dfTrain = pd.read_csv('application_train.csv')"
   ]
  },
  {
   "cell_type": "code",
   "execution_count": 4,
   "metadata": {},
   "outputs": [],
   "source": [
    "dfTest = pd.read_csv('application_test.csv')"
   ]
  },
  {
   "cell_type": "code",
   "execution_count": 7,
   "metadata": {},
   "outputs": [
    {
     "name": "stdout",
     "output_type": "stream",
     "text": [
      "Training data shape:  (307511, 122)\n"
     ]
    },
    {
     "data": {
      "text/html": [
       "<div>\n",
       "<style scoped>\n",
       "    .dataframe tbody tr th:only-of-type {\n",
       "        vertical-align: middle;\n",
       "    }\n",
       "\n",
       "    .dataframe tbody tr th {\n",
       "        vertical-align: top;\n",
       "    }\n",
       "\n",
       "    .dataframe thead th {\n",
       "        text-align: right;\n",
       "    }\n",
       "</style>\n",
       "<table border=\"1\" class=\"dataframe\">\n",
       "  <thead>\n",
       "    <tr style=\"text-align: right;\">\n",
       "      <th></th>\n",
       "      <th>SK_ID_CURR</th>\n",
       "      <th>TARGET</th>\n",
       "      <th>NAME_CONTRACT_TYPE</th>\n",
       "      <th>CODE_GENDER</th>\n",
       "      <th>FLAG_OWN_CAR</th>\n",
       "      <th>FLAG_OWN_REALTY</th>\n",
       "      <th>CNT_CHILDREN</th>\n",
       "      <th>AMT_INCOME_TOTAL</th>\n",
       "      <th>AMT_CREDIT</th>\n",
       "      <th>AMT_ANNUITY</th>\n",
       "      <th>...</th>\n",
       "      <th>FLAG_DOCUMENT_18</th>\n",
       "      <th>FLAG_DOCUMENT_19</th>\n",
       "      <th>FLAG_DOCUMENT_20</th>\n",
       "      <th>FLAG_DOCUMENT_21</th>\n",
       "      <th>AMT_REQ_CREDIT_BUREAU_HOUR</th>\n",
       "      <th>AMT_REQ_CREDIT_BUREAU_DAY</th>\n",
       "      <th>AMT_REQ_CREDIT_BUREAU_WEEK</th>\n",
       "      <th>AMT_REQ_CREDIT_BUREAU_MON</th>\n",
       "      <th>AMT_REQ_CREDIT_BUREAU_QRT</th>\n",
       "      <th>AMT_REQ_CREDIT_BUREAU_YEAR</th>\n",
       "    </tr>\n",
       "  </thead>\n",
       "  <tbody>\n",
       "    <tr>\n",
       "      <th>0</th>\n",
       "      <td>100002</td>\n",
       "      <td>1</td>\n",
       "      <td>Cash loans</td>\n",
       "      <td>M</td>\n",
       "      <td>N</td>\n",
       "      <td>Y</td>\n",
       "      <td>0</td>\n",
       "      <td>202500.0</td>\n",
       "      <td>406597.5</td>\n",
       "      <td>24700.5</td>\n",
       "      <td>...</td>\n",
       "      <td>0</td>\n",
       "      <td>0</td>\n",
       "      <td>0</td>\n",
       "      <td>0</td>\n",
       "      <td>0.0</td>\n",
       "      <td>0.0</td>\n",
       "      <td>0.0</td>\n",
       "      <td>0.0</td>\n",
       "      <td>0.0</td>\n",
       "      <td>1.0</td>\n",
       "    </tr>\n",
       "    <tr>\n",
       "      <th>1</th>\n",
       "      <td>100003</td>\n",
       "      <td>0</td>\n",
       "      <td>Cash loans</td>\n",
       "      <td>F</td>\n",
       "      <td>N</td>\n",
       "      <td>N</td>\n",
       "      <td>0</td>\n",
       "      <td>270000.0</td>\n",
       "      <td>1293502.5</td>\n",
       "      <td>35698.5</td>\n",
       "      <td>...</td>\n",
       "      <td>0</td>\n",
       "      <td>0</td>\n",
       "      <td>0</td>\n",
       "      <td>0</td>\n",
       "      <td>0.0</td>\n",
       "      <td>0.0</td>\n",
       "      <td>0.0</td>\n",
       "      <td>0.0</td>\n",
       "      <td>0.0</td>\n",
       "      <td>0.0</td>\n",
       "    </tr>\n",
       "    <tr>\n",
       "      <th>2</th>\n",
       "      <td>100004</td>\n",
       "      <td>0</td>\n",
       "      <td>Revolving loans</td>\n",
       "      <td>M</td>\n",
       "      <td>Y</td>\n",
       "      <td>Y</td>\n",
       "      <td>0</td>\n",
       "      <td>67500.0</td>\n",
       "      <td>135000.0</td>\n",
       "      <td>6750.0</td>\n",
       "      <td>...</td>\n",
       "      <td>0</td>\n",
       "      <td>0</td>\n",
       "      <td>0</td>\n",
       "      <td>0</td>\n",
       "      <td>0.0</td>\n",
       "      <td>0.0</td>\n",
       "      <td>0.0</td>\n",
       "      <td>0.0</td>\n",
       "      <td>0.0</td>\n",
       "      <td>0.0</td>\n",
       "    </tr>\n",
       "    <tr>\n",
       "      <th>3</th>\n",
       "      <td>100006</td>\n",
       "      <td>0</td>\n",
       "      <td>Cash loans</td>\n",
       "      <td>F</td>\n",
       "      <td>N</td>\n",
       "      <td>Y</td>\n",
       "      <td>0</td>\n",
       "      <td>135000.0</td>\n",
       "      <td>312682.5</td>\n",
       "      <td>29686.5</td>\n",
       "      <td>...</td>\n",
       "      <td>0</td>\n",
       "      <td>0</td>\n",
       "      <td>0</td>\n",
       "      <td>0</td>\n",
       "      <td>NaN</td>\n",
       "      <td>NaN</td>\n",
       "      <td>NaN</td>\n",
       "      <td>NaN</td>\n",
       "      <td>NaN</td>\n",
       "      <td>NaN</td>\n",
       "    </tr>\n",
       "    <tr>\n",
       "      <th>4</th>\n",
       "      <td>100007</td>\n",
       "      <td>0</td>\n",
       "      <td>Cash loans</td>\n",
       "      <td>M</td>\n",
       "      <td>N</td>\n",
       "      <td>Y</td>\n",
       "      <td>0</td>\n",
       "      <td>121500.0</td>\n",
       "      <td>513000.0</td>\n",
       "      <td>21865.5</td>\n",
       "      <td>...</td>\n",
       "      <td>0</td>\n",
       "      <td>0</td>\n",
       "      <td>0</td>\n",
       "      <td>0</td>\n",
       "      <td>0.0</td>\n",
       "      <td>0.0</td>\n",
       "      <td>0.0</td>\n",
       "      <td>0.0</td>\n",
       "      <td>0.0</td>\n",
       "      <td>0.0</td>\n",
       "    </tr>\n",
       "  </tbody>\n",
       "</table>\n",
       "<p>5 rows × 122 columns</p>\n",
       "</div>"
      ],
      "text/plain": [
       "   SK_ID_CURR  TARGET NAME_CONTRACT_TYPE CODE_GENDER FLAG_OWN_CAR  \\\n",
       "0      100002       1         Cash loans           M            N   \n",
       "1      100003       0         Cash loans           F            N   \n",
       "2      100004       0    Revolving loans           M            Y   \n",
       "3      100006       0         Cash loans           F            N   \n",
       "4      100007       0         Cash loans           M            N   \n",
       "\n",
       "  FLAG_OWN_REALTY  CNT_CHILDREN  AMT_INCOME_TOTAL  AMT_CREDIT  AMT_ANNUITY  \\\n",
       "0               Y             0          202500.0    406597.5      24700.5   \n",
       "1               N             0          270000.0   1293502.5      35698.5   \n",
       "2               Y             0           67500.0    135000.0       6750.0   \n",
       "3               Y             0          135000.0    312682.5      29686.5   \n",
       "4               Y             0          121500.0    513000.0      21865.5   \n",
       "\n",
       "              ...              FLAG_DOCUMENT_18 FLAG_DOCUMENT_19  \\\n",
       "0             ...                             0                0   \n",
       "1             ...                             0                0   \n",
       "2             ...                             0                0   \n",
       "3             ...                             0                0   \n",
       "4             ...                             0                0   \n",
       "\n",
       "  FLAG_DOCUMENT_20 FLAG_DOCUMENT_21 AMT_REQ_CREDIT_BUREAU_HOUR  \\\n",
       "0                0                0                        0.0   \n",
       "1                0                0                        0.0   \n",
       "2                0                0                        0.0   \n",
       "3                0                0                        NaN   \n",
       "4                0                0                        0.0   \n",
       "\n",
       "  AMT_REQ_CREDIT_BUREAU_DAY  AMT_REQ_CREDIT_BUREAU_WEEK  \\\n",
       "0                       0.0                         0.0   \n",
       "1                       0.0                         0.0   \n",
       "2                       0.0                         0.0   \n",
       "3                       NaN                         NaN   \n",
       "4                       0.0                         0.0   \n",
       "\n",
       "   AMT_REQ_CREDIT_BUREAU_MON  AMT_REQ_CREDIT_BUREAU_QRT  \\\n",
       "0                        0.0                        0.0   \n",
       "1                        0.0                        0.0   \n",
       "2                        0.0                        0.0   \n",
       "3                        NaN                        NaN   \n",
       "4                        0.0                        0.0   \n",
       "\n",
       "   AMT_REQ_CREDIT_BUREAU_YEAR  \n",
       "0                         1.0  \n",
       "1                         0.0  \n",
       "2                         0.0  \n",
       "3                         NaN  \n",
       "4                         0.0  \n",
       "\n",
       "[5 rows x 122 columns]"
      ]
     },
     "execution_count": 7,
     "metadata": {},
     "output_type": "execute_result"
    }
   ],
   "source": [
    "print('Training data shape: ', dfTrain.shape)\n",
    "dfTrain.head()"
   ]
  },
  {
   "cell_type": "code",
   "execution_count": 8,
   "metadata": {},
   "outputs": [
    {
     "name": "stdout",
     "output_type": "stream",
     "text": [
      "Test data shape:  (48744, 121)\n"
     ]
    },
    {
     "data": {
      "text/html": [
       "<div>\n",
       "<style scoped>\n",
       "    .dataframe tbody tr th:only-of-type {\n",
       "        vertical-align: middle;\n",
       "    }\n",
       "\n",
       "    .dataframe tbody tr th {\n",
       "        vertical-align: top;\n",
       "    }\n",
       "\n",
       "    .dataframe thead th {\n",
       "        text-align: right;\n",
       "    }\n",
       "</style>\n",
       "<table border=\"1\" class=\"dataframe\">\n",
       "  <thead>\n",
       "    <tr style=\"text-align: right;\">\n",
       "      <th></th>\n",
       "      <th>SK_ID_CURR</th>\n",
       "      <th>NAME_CONTRACT_TYPE</th>\n",
       "      <th>CODE_GENDER</th>\n",
       "      <th>FLAG_OWN_CAR</th>\n",
       "      <th>FLAG_OWN_REALTY</th>\n",
       "      <th>CNT_CHILDREN</th>\n",
       "      <th>AMT_INCOME_TOTAL</th>\n",
       "      <th>AMT_CREDIT</th>\n",
       "      <th>AMT_ANNUITY</th>\n",
       "      <th>AMT_GOODS_PRICE</th>\n",
       "      <th>...</th>\n",
       "      <th>FLAG_DOCUMENT_18</th>\n",
       "      <th>FLAG_DOCUMENT_19</th>\n",
       "      <th>FLAG_DOCUMENT_20</th>\n",
       "      <th>FLAG_DOCUMENT_21</th>\n",
       "      <th>AMT_REQ_CREDIT_BUREAU_HOUR</th>\n",
       "      <th>AMT_REQ_CREDIT_BUREAU_DAY</th>\n",
       "      <th>AMT_REQ_CREDIT_BUREAU_WEEK</th>\n",
       "      <th>AMT_REQ_CREDIT_BUREAU_MON</th>\n",
       "      <th>AMT_REQ_CREDIT_BUREAU_QRT</th>\n",
       "      <th>AMT_REQ_CREDIT_BUREAU_YEAR</th>\n",
       "    </tr>\n",
       "  </thead>\n",
       "  <tbody>\n",
       "    <tr>\n",
       "      <th>0</th>\n",
       "      <td>100001</td>\n",
       "      <td>Cash loans</td>\n",
       "      <td>F</td>\n",
       "      <td>N</td>\n",
       "      <td>Y</td>\n",
       "      <td>0</td>\n",
       "      <td>135000.0</td>\n",
       "      <td>568800.0</td>\n",
       "      <td>20560.5</td>\n",
       "      <td>450000.0</td>\n",
       "      <td>...</td>\n",
       "      <td>0</td>\n",
       "      <td>0</td>\n",
       "      <td>0</td>\n",
       "      <td>0</td>\n",
       "      <td>0.0</td>\n",
       "      <td>0.0</td>\n",
       "      <td>0.0</td>\n",
       "      <td>0.0</td>\n",
       "      <td>0.0</td>\n",
       "      <td>0.0</td>\n",
       "    </tr>\n",
       "    <tr>\n",
       "      <th>1</th>\n",
       "      <td>100005</td>\n",
       "      <td>Cash loans</td>\n",
       "      <td>M</td>\n",
       "      <td>N</td>\n",
       "      <td>Y</td>\n",
       "      <td>0</td>\n",
       "      <td>99000.0</td>\n",
       "      <td>222768.0</td>\n",
       "      <td>17370.0</td>\n",
       "      <td>180000.0</td>\n",
       "      <td>...</td>\n",
       "      <td>0</td>\n",
       "      <td>0</td>\n",
       "      <td>0</td>\n",
       "      <td>0</td>\n",
       "      <td>0.0</td>\n",
       "      <td>0.0</td>\n",
       "      <td>0.0</td>\n",
       "      <td>0.0</td>\n",
       "      <td>0.0</td>\n",
       "      <td>3.0</td>\n",
       "    </tr>\n",
       "    <tr>\n",
       "      <th>2</th>\n",
       "      <td>100013</td>\n",
       "      <td>Cash loans</td>\n",
       "      <td>M</td>\n",
       "      <td>Y</td>\n",
       "      <td>Y</td>\n",
       "      <td>0</td>\n",
       "      <td>202500.0</td>\n",
       "      <td>663264.0</td>\n",
       "      <td>69777.0</td>\n",
       "      <td>630000.0</td>\n",
       "      <td>...</td>\n",
       "      <td>0</td>\n",
       "      <td>0</td>\n",
       "      <td>0</td>\n",
       "      <td>0</td>\n",
       "      <td>0.0</td>\n",
       "      <td>0.0</td>\n",
       "      <td>0.0</td>\n",
       "      <td>0.0</td>\n",
       "      <td>1.0</td>\n",
       "      <td>4.0</td>\n",
       "    </tr>\n",
       "    <tr>\n",
       "      <th>3</th>\n",
       "      <td>100028</td>\n",
       "      <td>Cash loans</td>\n",
       "      <td>F</td>\n",
       "      <td>N</td>\n",
       "      <td>Y</td>\n",
       "      <td>2</td>\n",
       "      <td>315000.0</td>\n",
       "      <td>1575000.0</td>\n",
       "      <td>49018.5</td>\n",
       "      <td>1575000.0</td>\n",
       "      <td>...</td>\n",
       "      <td>0</td>\n",
       "      <td>0</td>\n",
       "      <td>0</td>\n",
       "      <td>0</td>\n",
       "      <td>0.0</td>\n",
       "      <td>0.0</td>\n",
       "      <td>0.0</td>\n",
       "      <td>0.0</td>\n",
       "      <td>0.0</td>\n",
       "      <td>3.0</td>\n",
       "    </tr>\n",
       "    <tr>\n",
       "      <th>4</th>\n",
       "      <td>100038</td>\n",
       "      <td>Cash loans</td>\n",
       "      <td>M</td>\n",
       "      <td>Y</td>\n",
       "      <td>N</td>\n",
       "      <td>1</td>\n",
       "      <td>180000.0</td>\n",
       "      <td>625500.0</td>\n",
       "      <td>32067.0</td>\n",
       "      <td>625500.0</td>\n",
       "      <td>...</td>\n",
       "      <td>0</td>\n",
       "      <td>0</td>\n",
       "      <td>0</td>\n",
       "      <td>0</td>\n",
       "      <td>NaN</td>\n",
       "      <td>NaN</td>\n",
       "      <td>NaN</td>\n",
       "      <td>NaN</td>\n",
       "      <td>NaN</td>\n",
       "      <td>NaN</td>\n",
       "    </tr>\n",
       "  </tbody>\n",
       "</table>\n",
       "<p>5 rows × 121 columns</p>\n",
       "</div>"
      ],
      "text/plain": [
       "   SK_ID_CURR NAME_CONTRACT_TYPE CODE_GENDER FLAG_OWN_CAR FLAG_OWN_REALTY  \\\n",
       "0      100001         Cash loans           F            N               Y   \n",
       "1      100005         Cash loans           M            N               Y   \n",
       "2      100013         Cash loans           M            Y               Y   \n",
       "3      100028         Cash loans           F            N               Y   \n",
       "4      100038         Cash loans           M            Y               N   \n",
       "\n",
       "   CNT_CHILDREN  AMT_INCOME_TOTAL  AMT_CREDIT  AMT_ANNUITY  AMT_GOODS_PRICE  \\\n",
       "0             0          135000.0    568800.0      20560.5         450000.0   \n",
       "1             0           99000.0    222768.0      17370.0         180000.0   \n",
       "2             0          202500.0    663264.0      69777.0         630000.0   \n",
       "3             2          315000.0   1575000.0      49018.5        1575000.0   \n",
       "4             1          180000.0    625500.0      32067.0         625500.0   \n",
       "\n",
       "              ...             FLAG_DOCUMENT_18 FLAG_DOCUMENT_19  \\\n",
       "0             ...                            0                0   \n",
       "1             ...                            0                0   \n",
       "2             ...                            0                0   \n",
       "3             ...                            0                0   \n",
       "4             ...                            0                0   \n",
       "\n",
       "  FLAG_DOCUMENT_20 FLAG_DOCUMENT_21 AMT_REQ_CREDIT_BUREAU_HOUR  \\\n",
       "0                0                0                        0.0   \n",
       "1                0                0                        0.0   \n",
       "2                0                0                        0.0   \n",
       "3                0                0                        0.0   \n",
       "4                0                0                        NaN   \n",
       "\n",
       "   AMT_REQ_CREDIT_BUREAU_DAY  AMT_REQ_CREDIT_BUREAU_WEEK  \\\n",
       "0                        0.0                         0.0   \n",
       "1                        0.0                         0.0   \n",
       "2                        0.0                         0.0   \n",
       "3                        0.0                         0.0   \n",
       "4                        NaN                         NaN   \n",
       "\n",
       "   AMT_REQ_CREDIT_BUREAU_MON  AMT_REQ_CREDIT_BUREAU_QRT  \\\n",
       "0                        0.0                        0.0   \n",
       "1                        0.0                        0.0   \n",
       "2                        0.0                        1.0   \n",
       "3                        0.0                        0.0   \n",
       "4                        NaN                        NaN   \n",
       "\n",
       "   AMT_REQ_CREDIT_BUREAU_YEAR  \n",
       "0                         0.0  \n",
       "1                         3.0  \n",
       "2                         4.0  \n",
       "3                         3.0  \n",
       "4                         NaN  \n",
       "\n",
       "[5 rows x 121 columns]"
      ]
     },
     "execution_count": 8,
     "metadata": {},
     "output_type": "execute_result"
    }
   ],
   "source": [
    "print('Test data shape: ', dfTest.shape)\n",
    "dfTest.head()"
   ]
  },
  {
   "cell_type": "code",
   "execution_count": 9,
   "metadata": {},
   "outputs": [],
   "source": [
    "qdTrain = dfTrain.shape[0]\n",
    "qdTest = dfTest.shape[0]\n",
    "qdTotal = qdTrain + qdTest\n",
    "qTrPer = (qdTrain*100)/qdTotal\n",
    "qTePer = (qdTest*100)/qdTotal"
   ]
  },
  {
   "cell_type": "code",
   "execution_count": 10,
   "metadata": {},
   "outputs": [
    {
     "name": "stdout",
     "output_type": "stream",
     "text": [
      "Total data:  356255\n",
      "Percentage for training: 86.3176657169724\n",
      "Percentage for testing: 13.682334283027606\n",
      "Number of features training:  122\n",
      "Number of features test:  121\n"
     ]
    }
   ],
   "source": [
    "print('Total data: ', qdTotal)\n",
    "print('Percentage for training: {}'.format(qTrPer))\n",
    "print('Percentage for testing: {}'.format(qTePer))\n",
    "print('Number of features training: ', dfTrain.shape[1])\n",
    "print('Number of features test: ', dfTest.shape[1])"
   ]
  },
  {
   "cell_type": "code",
   "execution_count": 11,
   "metadata": {},
   "outputs": [
    {
     "data": {
      "text/plain": [
       "0    282686\n",
       "1     24825\n",
       "Name: TARGET, dtype: int64"
      ]
     },
     "execution_count": 11,
     "metadata": {},
     "output_type": "execute_result"
    }
   ],
   "source": [
    "dfTrain['TARGET'].value_counts()"
   ]
  },
  {
   "cell_type": "code",
   "execution_count": 12,
   "metadata": {},
   "outputs": [
    {
     "data": {
      "text/plain": [
       "<matplotlib.axes._subplots.AxesSubplot at 0x229a244d128>"
      ]
     },
     "execution_count": 12,
     "metadata": {},
     "output_type": "execute_result"
    },
    {
     "data": {
      "image/png": "[encoded data removed]",
      "text/plain": [
       "<Figure size 432x288 with 1 Axes>"
      ]
     },
     "metadata": {},
     "output_type": "display_data"
    }
   ],
   "source": [
    "dfTrain['TARGET'].astype(int).plot.hist()"
   ]
  },
  {
   "cell_type": "code",
   "execution_count": 13,
   "metadata": {},
   "outputs": [],
   "source": [
    "missingVal = dfTrain.isnull().sum()\n",
    "MVpercent = 100 * dfTrain.isnull().sum() / len(dfTrain)\n",
    "dfMissingValues = pd.concat([missingVal, MVpercent], axis=1)\n",
    "dfMissingValues = dfMissingValues.rename(columns = {0 : 'Missing Values', 1 : '% of Total Values'})\n",
    "dfMissingValues = dfMissingValues[dfMissingValues.iloc[:,1] != 0].sort_values('% of Total Values', ascending=False).round(3)"
   ]
  },
  {
   "cell_type": "code",
   "execution_count": 14,
   "metadata": {},
   "outputs": [
    {
     "data": {
      "text/html": [
       "<div>\n",
       "<style scoped>\n",
       "    .dataframe tbody tr th:only-of-type {\n",
       "        vertical-align: middle;\n",
       "    }\n",
       "\n",
       "    .dataframe tbody tr th {\n",
       "        vertical-align: top;\n",
       "    }\n",
       "\n",
       "    .dataframe thead th {\n",
       "        text-align: right;\n",
       "    }\n",
       "</style>\n",
       "<table border=\"1\" class=\"dataframe\">\n",
       "  <thead>\n",
       "    <tr style=\"text-align: right;\">\n",
       "      <th></th>\n",
       "      <th>Missing Values</th>\n",
       "      <th>% of Total Values</th>\n",
       "    </tr>\n",
       "  </thead>\n",
       "  <tbody>\n",
       "    <tr>\n",
       "      <th>COMMONAREA_MEDI</th>\n",
       "      <td>214865</td>\n",
       "      <td>69.872</td>\n",
       "    </tr>\n",
       "    <tr>\n",
       "      <th>COMMONAREA_AVG</th>\n",
       "      <td>214865</td>\n",
       "      <td>69.872</td>\n",
       "    </tr>\n",
       "    <tr>\n",
       "      <th>COMMONAREA_MODE</th>\n",
       "      <td>214865</td>\n",
       "      <td>69.872</td>\n",
       "    </tr>\n",
       "    <tr>\n",
       "      <th>NONLIVINGAPARTMENTS_MEDI</th>\n",
       "      <td>213514</td>\n",
       "      <td>69.433</td>\n",
       "    </tr>\n",
       "    <tr>\n",
       "      <th>NONLIVINGAPARTMENTS_MODE</th>\n",
       "      <td>213514</td>\n",
       "      <td>69.433</td>\n",
       "    </tr>\n",
       "    <tr>\n",
       "      <th>NONLIVINGAPARTMENTS_AVG</th>\n",
       "      <td>213514</td>\n",
       "      <td>69.433</td>\n",
       "    </tr>\n",
       "    <tr>\n",
       "      <th>FONDKAPREMONT_MODE</th>\n",
       "      <td>210295</td>\n",
       "      <td>68.386</td>\n",
       "    </tr>\n",
       "    <tr>\n",
       "      <th>LIVINGAPARTMENTS_MODE</th>\n",
       "      <td>210199</td>\n",
       "      <td>68.355</td>\n",
       "    </tr>\n",
       "    <tr>\n",
       "      <th>LIVINGAPARTMENTS_MEDI</th>\n",
       "      <td>210199</td>\n",
       "      <td>68.355</td>\n",
       "    </tr>\n",
       "    <tr>\n",
       "      <th>LIVINGAPARTMENTS_AVG</th>\n",
       "      <td>210199</td>\n",
       "      <td>68.355</td>\n",
       "    </tr>\n",
       "    <tr>\n",
       "      <th>FLOORSMIN_MODE</th>\n",
       "      <td>208642</td>\n",
       "      <td>67.849</td>\n",
       "    </tr>\n",
       "    <tr>\n",
       "      <th>FLOORSMIN_MEDI</th>\n",
       "      <td>208642</td>\n",
       "      <td>67.849</td>\n",
       "    </tr>\n",
       "    <tr>\n",
       "      <th>FLOORSMIN_AVG</th>\n",
       "      <td>208642</td>\n",
       "      <td>67.849</td>\n",
       "    </tr>\n",
       "    <tr>\n",
       "      <th>YEARS_BUILD_MODE</th>\n",
       "      <td>204488</td>\n",
       "      <td>66.498</td>\n",
       "    </tr>\n",
       "    <tr>\n",
       "      <th>YEARS_BUILD_MEDI</th>\n",
       "      <td>204488</td>\n",
       "      <td>66.498</td>\n",
       "    </tr>\n",
       "    <tr>\n",
       "      <th>YEARS_BUILD_AVG</th>\n",
       "      <td>204488</td>\n",
       "      <td>66.498</td>\n",
       "    </tr>\n",
       "    <tr>\n",
       "      <th>OWN_CAR_AGE</th>\n",
       "      <td>202929</td>\n",
       "      <td>65.991</td>\n",
       "    </tr>\n",
       "    <tr>\n",
       "      <th>LANDAREA_AVG</th>\n",
       "      <td>182590</td>\n",
       "      <td>59.377</td>\n",
       "    </tr>\n",
       "    <tr>\n",
       "      <th>LANDAREA_MEDI</th>\n",
       "      <td>182590</td>\n",
       "      <td>59.377</td>\n",
       "    </tr>\n",
       "    <tr>\n",
       "      <th>LANDAREA_MODE</th>\n",
       "      <td>182590</td>\n",
       "      <td>59.377</td>\n",
       "    </tr>\n",
       "    <tr>\n",
       "      <th>BASEMENTAREA_MEDI</th>\n",
       "      <td>179943</td>\n",
       "      <td>58.516</td>\n",
       "    </tr>\n",
       "    <tr>\n",
       "      <th>BASEMENTAREA_AVG</th>\n",
       "      <td>179943</td>\n",
       "      <td>58.516</td>\n",
       "    </tr>\n",
       "    <tr>\n",
       "      <th>BASEMENTAREA_MODE</th>\n",
       "      <td>179943</td>\n",
       "      <td>58.516</td>\n",
       "    </tr>\n",
       "    <tr>\n",
       "      <th>EXT_SOURCE_1</th>\n",
       "      <td>173378</td>\n",
       "      <td>56.381</td>\n",
       "    </tr>\n",
       "    <tr>\n",
       "      <th>NONLIVINGAREA_MEDI</th>\n",
       "      <td>169682</td>\n",
       "      <td>55.179</td>\n",
       "    </tr>\n",
       "  </tbody>\n",
       "</table>\n",
       "</div>"
      ],
      "text/plain": [
       "                          Missing Values  % of Total Values\n",
       "COMMONAREA_MEDI                   214865             69.872\n",
       "COMMONAREA_AVG                    214865             69.872\n",
       "COMMONAREA_MODE                   214865             69.872\n",
       "NONLIVINGAPARTMENTS_MEDI          213514             69.433\n",
       "NONLIVINGAPARTMENTS_MODE          213514             69.433\n",
       "NONLIVINGAPARTMENTS_AVG           213514             69.433\n",
       "FONDKAPREMONT_MODE                210295             68.386\n",
       "LIVINGAPARTMENTS_MODE             210199             68.355\n",
       "LIVINGAPARTMENTS_MEDI             210199             68.355\n",
       "LIVINGAPARTMENTS_AVG              210199             68.355\n",
       "FLOORSMIN_MODE                    208642             67.849\n",
       "FLOORSMIN_MEDI                    208642             67.849\n",
       "FLOORSMIN_AVG                     208642             67.849\n",
       "YEARS_BUILD_MODE                  204488             66.498\n",
       "YEARS_BUILD_MEDI                  204488             66.498\n",
       "YEARS_BUILD_AVG                   204488             66.498\n",
       "OWN_CAR_AGE                       202929             65.991\n",
       "LANDAREA_AVG                      182590             59.377\n",
       "LANDAREA_MEDI                     182590             59.377\n",
       "LANDAREA_MODE                     182590             59.377\n",
       "BASEMENTAREA_MEDI                 179943             58.516\n",
       "BASEMENTAREA_AVG                  179943             58.516\n",
       "BASEMENTAREA_MODE                 179943             58.516\n",
       "EXT_SOURCE_1                      173378             56.381\n",
       "NONLIVINGAREA_MEDI                169682             55.179"
      ]
     },
     "execution_count": 14,
     "metadata": {},
     "output_type": "execute_result"
    }
   ],
   "source": [
    "dfMissingValues.head(25)"
   ]
  },
  {
   "cell_type": "code",
   "execution_count": 15,
   "metadata": {},
   "outputs": [
    {
     "data": {
      "text/plain": [
       "<matplotlib.axes._subplots.AxesSubplot at 0x229a252fb00>"
      ]
     },
     "execution_count": 15,
     "metadata": {},
     "output_type": "execute_result"
    },
    {
     "data": {
      "image/png": "[encoded data removed]",
      "text/plain": [
       "<Figure size 432x288 with 1 Axes>"
      ]
     },
     "metadata": {},
     "output_type": "display_data"
    }
   ],
   "source": [
    "dfMissingValues['% of Total Values'].astype(int).plot.hist()"
   ]
  },
  {
   "cell_type": "code",
   "execution_count": 16,
   "metadata": {},
   "outputs": [
    {
     "name": "stdout",
     "output_type": "stream",
     "text": [
      "float64 has a percentage of 53.28\n",
      "int64 has a percentage of 33.61\n",
      "object has a percentage of 13.11\n"
     ]
    }
   ],
   "source": [
    "x = dfTrain.dtypes.value_counts()\n",
    "idX2 = 0\n",
    "ls = ['float64','int64', 'object']\n",
    "for idx in range(len(x)):\n",
    "    per = (x[idx]*100)/x.sum()\n",
    "    print('{} has a percentage of {:0.2f}'.format(ls[idX2], per))\n",
    "    idX2 += 1\n"
   ]
  },
  {
   "cell_type": "markdown",
   "metadata": {},
   "source": [
    "#### Cuales son las columnas tipo object"
   ]
  },
  {
   "cell_type": "code",
   "execution_count": 17,
   "metadata": {},
   "outputs": [
    {
     "data": {
      "text/plain": [
       "NAME_CONTRACT_TYPE             2\n",
       "CODE_GENDER                    3\n",
       "FLAG_OWN_CAR                   2\n",
       "FLAG_OWN_REALTY                2\n",
       "NAME_TYPE_SUITE                7\n",
       "NAME_INCOME_TYPE               8\n",
       "NAME_EDUCATION_TYPE            5\n",
       "NAME_FAMILY_STATUS             6\n",
       "NAME_HOUSING_TYPE              6\n",
       "OCCUPATION_TYPE               18\n",
       "WEEKDAY_APPR_PROCESS_START     7\n",
       "ORGANIZATION_TYPE             58\n",
       "FONDKAPREMONT_MODE             4\n",
       "HOUSETYPE_MODE                 3\n",
       "WALLSMATERIAL_MODE             7\n",
       "EMERGENCYSTATE_MODE            2\n",
       "dtype: int64"
      ]
     },
     "execution_count": 17,
     "metadata": {},
     "output_type": "execute_result"
    }
   ],
   "source": [
    "dfTrain.select_dtypes('object').apply(pd.Series.nunique, axis = 0)"
   ]
  },
  {
   "cell_type": "markdown",
   "metadata": {},
   "source": [
    "Para evitar aumento innecesario de la dimensionalidad, para las 'object' que solo son dos unicas cosas usaremos label encoder (0,1) y OneHot para las que son mayores a 2 para evitar darle mas peso a una forma de la varible que a otra usando label encoder"
   ]
  },
  {
   "cell_type": "code",
   "execution_count": 5,
   "metadata": {},
   "outputs": [],
   "source": [
    "labelEnc = LabelEncoder()\n",
    "for column in dfTrain:\n",
    "    if dfTrain[column].dtype == 'object':\n",
    "        if len(list(dfTrain[column].unique())) <= 2:\n",
    "            labelEnc.fit(dfTrain[column])\n",
    "            dfTrain[column] = labelEnc.transform(dfTrain[column])\n",
    "            dfTest[column] = labelEnc.transform(dfTest[column])"
   ]
  },
  {
   "cell_type": "code",
   "execution_count": 6,
   "metadata": {},
   "outputs": [],
   "source": [
    "dfTrain = pd.get_dummies(dfTrain)\n",
    "dfTest = pd.get_dummies(dfTest)"
   ]
  },
  {
   "cell_type": "code",
   "execution_count": 20,
   "metadata": {},
   "outputs": [
    {
     "name": "stdout",
     "output_type": "stream",
     "text": [
      "Number of features training:  243\n",
      "Number of features test:  239\n"
     ]
    }
   ],
   "source": [
    "print('Number of features training: ', dfTrain.shape[1])\n",
    "print('Number of features test: ', dfTest.shape[1])"
   ]
  },
  {
   "cell_type": "markdown",
   "metadata": {},
   "source": [
    "Hacer One Hot ha creado mas columnas y ha desalineado los dos df, no pueden estar así, entonces toca alinearlos"
   ]
  },
  {
   "cell_type": "code",
   "execution_count": 7,
   "metadata": {},
   "outputs": [],
   "source": [
    "targetLabel = dfTrain['TARGET'] #Guardamos el label para mas adelante"
   ]
  },
  {
   "cell_type": "code",
   "execution_count": 8,
   "metadata": {},
   "outputs": [],
   "source": [
    "dfTrain, dfTest = dfTrain.align(dfTest, join = 'inner', axis = 1) #Los unimos por el axis=1 por las columnas"
   ]
  },
  {
   "cell_type": "code",
   "execution_count": 9,
   "metadata": {},
   "outputs": [],
   "source": [
    "dfTrain['TARGET'] = targetLabel #Volvemos a añadir la columna del target"
   ]
  },
  {
   "cell_type": "code",
   "execution_count": 24,
   "metadata": {},
   "outputs": [
    {
     "name": "stdout",
     "output_type": "stream",
     "text": [
      "Number of features training:  240\n",
      "Number of features test:  239\n"
     ]
    }
   ],
   "source": [
    "print('Number of features training: ', dfTrain.shape[1])\n",
    "print('Number of features test: ', dfTest.shape[1])"
   ]
  },
  {
   "cell_type": "markdown",
   "metadata": {},
   "source": [
    "Los datos poseen columnas de información sobre días, y puede ser que estos días tengan fechas curiosas por error"
   ]
  },
  {
   "cell_type": "code",
   "execution_count": 25,
   "metadata": {},
   "outputs": [
    {
     "data": {
      "text/plain": [
       "count    307511.000000\n",
       "mean         43.936973\n",
       "std          11.956133\n",
       "min          20.517808\n",
       "25%          34.008219\n",
       "50%          43.150685\n",
       "75%          53.923288\n",
       "max          69.120548\n",
       "Name: DAYS_BIRTH, dtype: float64"
      ]
     },
     "execution_count": 25,
     "metadata": {},
     "output_type": "execute_result"
    }
   ],
   "source": [
    "#Las columnas seran: DAYS_BIRTH, DAYS_EMPLOYED, DAYS_REGISTRATION\n",
    "(dfTrain['DAYS_BIRTH'] / -365).describe()"
   ]
  },
  {
   "cell_type": "markdown",
   "metadata": {},
   "source": [
    "Como se puede ver, los datos (pasados desde negativos) tienen una descripcion normal, con una minina edad de 20 años y una maxima de 69.\n",
    "Con lo que está en unos rangos normales\n",
    "\n",
    "Siguiente columna"
   ]
  },
  {
   "cell_type": "code",
   "execution_count": 26,
   "metadata": {
    "scrolled": true
   },
   "outputs": [
    {
     "data": {
      "text/plain": [
       "count    307511.000000\n",
       "mean      63815.045904\n",
       "std      141275.766519\n",
       "min      -17912.000000\n",
       "25%       -2760.000000\n",
       "50%       -1213.000000\n",
       "75%        -289.000000\n",
       "max      365243.000000\n",
       "Name: DAYS_EMPLOYED, dtype: float64"
      ]
     },
     "execution_count": 26,
     "metadata": {},
     "output_type": "execute_result"
    }
   ],
   "source": [
    "(dfTrain['DAYS_EMPLOYED']).describe()"
   ]
  },
  {
   "cell_type": "markdown",
   "metadata": {},
   "source": [
    "Y ahora como que algo no cuadra, todos los datos van en un buen rango excepto el maximo, porque no tiene ningun sentido, si los días se cuentan en negativo hacia atras porque esta positivo, y ademas ese numero es gigante, veamos cuanto es en años (365243)"
   ]
  },
  {
   "cell_type": "code",
   "execution_count": 27,
   "metadata": {},
   "outputs": [
    {
     "data": {
      "text/plain": [
       "1000.6657534246575"
      ]
     },
     "execution_count": 27,
     "metadata": {},
     "output_type": "execute_result"
    }
   ],
   "source": [
    "365243/365"
   ]
  },
  {
   "cell_type": "markdown",
   "metadata": {},
   "source": [
    "Mas de mil años, algo no funciona con ese valor, entonces veamos que tal se ven en grafica"
   ]
  },
  {
   "cell_type": "code",
   "execution_count": 28,
   "metadata": {},
   "outputs": [
    {
     "data": {
      "image/png": "[encoded data removed]",
      "text/plain": [
       "<Figure size 432x288 with 1 Axes>"
      ]
     },
     "metadata": {},
     "output_type": "display_data"
    }
   ],
   "source": [
    "dfTrain['DAYS_EMPLOYED'].plot.hist();\n",
    "plt.xlabel('Days Employment');"
   ]
  },
  {
   "cell_type": "code",
   "execution_count": 29,
   "metadata": {},
   "outputs": [
    {
     "name": "stdout",
     "output_type": "stream",
     "text": [
      "Hay 55374 dias que no cuadran\n"
     ]
    }
   ],
   "source": [
    "raros = dfTrain[dfTrain['DAYS_EMPLOYED'] > 0]\n",
    "print('Hay %d dias que no cuadran' % len(raros))"
   ]
  },
  {
   "cell_type": "markdown",
   "metadata": {},
   "source": [
    "No son poquitos los que justamente andan entre el 75% y el 100%, algo hay que hacer"
   ]
  },
  {
   "cell_type": "code",
   "execution_count": 10,
   "metadata": {},
   "outputs": [],
   "source": [
    "dfTrain['DAYS_EMPLOYED'].replace({365243: np.nan}, inplace = True)"
   ]
  },
  {
   "cell_type": "markdown",
   "metadata": {},
   "source": [
    "Veamos en test que tal"
   ]
  },
  {
   "cell_type": "code",
   "execution_count": 31,
   "metadata": {},
   "outputs": [
    {
     "data": {
      "image/png": "[encoded data removed]",
      "text/plain": [
       "<Figure size 432x288 with 1 Axes>"
      ]
     },
     "metadata": {},
     "output_type": "display_data"
    }
   ],
   "source": [
    "dfTest['DAYS_EMPLOYED'].plot.hist();\n",
    "plt.xlabel('Days Employment');"
   ]
  },
  {
   "cell_type": "markdown",
   "metadata": {},
   "source": [
    "O mira de nuevo los raros, vamos a hacerles lo mismo"
   ]
  },
  {
   "cell_type": "code",
   "execution_count": 11,
   "metadata": {},
   "outputs": [],
   "source": [
    "dfTest['DAYS_EMPLOYED'].replace({365243: np.nan}, inplace = True)"
   ]
  },
  {
   "cell_type": "code",
   "execution_count": 33,
   "metadata": {},
   "outputs": [
    {
     "data": {
      "image/png": "[encoded data removed]",
      "text/plain": [
       "<Figure size 432x288 with 1 Axes>"
      ]
     },
     "metadata": {},
     "output_type": "display_data"
    }
   ],
   "source": [
    "dfTrain['DAYS_EMPLOYED'].plot.hist();\n",
    "plt.xlabel('Days Employment');"
   ]
  },
  {
   "cell_type": "markdown",
   "metadata": {},
   "source": [
    "Mira que bien que se ve ahora"
   ]
  },
  {
   "cell_type": "code",
   "execution_count": 34,
   "metadata": {},
   "outputs": [
    {
     "data": {
      "text/plain": [
       "count    307511.000000\n",
       "mean      -4986.120328\n",
       "std        3522.886321\n",
       "min      -24672.000000\n",
       "25%       -7479.500000\n",
       "50%       -4504.000000\n",
       "75%       -2010.000000\n",
       "max           0.000000\n",
       "Name: DAYS_REGISTRATION, dtype: float64"
      ]
     },
     "execution_count": 34,
     "metadata": {},
     "output_type": "execute_result"
    }
   ],
   "source": [
    "(dfTrain['DAYS_REGISTRATION']).describe()"
   ]
  },
  {
   "cell_type": "code",
   "execution_count": 35,
   "metadata": {},
   "outputs": [
    {
     "data": {
      "image/png": "[encoded data removed]",
      "text/plain": [
       "<Figure size 432x288 with 1 Axes>"
      ]
     },
     "metadata": {},
     "output_type": "display_data"
    }
   ],
   "source": [
    "dfTrain['DAYS_REGISTRATION'].plot.hist();\n",
    "plt.xlabel('Days Registry');"
   ]
  },
  {
   "cell_type": "code",
   "execution_count": 36,
   "metadata": {},
   "outputs": [
    {
     "data": {
      "text/plain": [
       "count    104582.000000\n",
       "mean         12.061091\n",
       "std          11.944812\n",
       "min           0.000000\n",
       "25%           5.000000\n",
       "50%           9.000000\n",
       "75%          15.000000\n",
       "max          91.000000\n",
       "Name: OWN_CAR_AGE, dtype: float64"
      ]
     },
     "execution_count": 36,
     "metadata": {},
     "output_type": "execute_result"
    }
   ],
   "source": [
    "(dfTrain['OWN_CAR_AGE']).describe()"
   ]
  },
  {
   "cell_type": "code",
   "execution_count": 37,
   "metadata": {},
   "outputs": [
    {
     "data": {
      "text/plain": [
       "0      NaN\n",
       "1      NaN\n",
       "2     26.0\n",
       "3      NaN\n",
       "4      NaN\n",
       "5      NaN\n",
       "6     17.0\n",
       "7      8.0\n",
       "8      NaN\n",
       "9      NaN\n",
       "10     NaN\n",
       "11     NaN\n",
       "12     NaN\n",
       "13    23.0\n",
       "14     NaN\n",
       "15    17.0\n",
       "16     NaN\n",
       "17     NaN\n",
       "18     NaN\n",
       "19     NaN\n",
       "20     7.0\n",
       "21    14.0\n",
       "22     NaN\n",
       "23     NaN\n",
       "24     7.0\n",
       "Name: OWN_CAR_AGE, dtype: float64"
      ]
     },
     "execution_count": 37,
     "metadata": {},
     "output_type": "execute_result"
    }
   ],
   "source": [
    "dfTrain['OWN_CAR_AGE'].head(25)"
   ]
  },
  {
   "cell_type": "code",
   "execution_count": 38,
   "metadata": {},
   "outputs": [
    {
     "data": {
      "image/png": "[encoded data removed]",
      "text/plain": [
       "<Figure size 432x288 with 1 Axes>"
      ]
     },
     "metadata": {},
     "output_type": "display_data"
    }
   ],
   "source": [
    "dfTrain['OWN_CAR_AGE'].plot.hist();\n",
    "plt.xlabel('Age of client car');"
   ]
  },
  {
   "cell_type": "markdown",
   "metadata": {},
   "source": [
    "Ahora que nos encargamos de las columnas tipo 'object' y de las cosas raras miremos correlaciones y luego creamos algunas variables pensando en el problema"
   ]
  },
  {
   "cell_type": "code",
   "execution_count": 39,
   "metadata": {},
   "outputs": [],
   "source": [
    "correlations = dfTrain.corr()['TARGET'].sort_values()"
   ]
  },
  {
   "cell_type": "markdown",
   "metadata": {},
   "source": [
    "En correlations mostramos todas las correlaciones, pero vamos a ver solamente las 10 mas positivas y negativas"
   ]
  },
  {
   "cell_type": "code",
   "execution_count": 40,
   "metadata": {},
   "outputs": [
    {
     "name": "stdout",
     "output_type": "stream",
     "text": [
      "Correlaciones mas positivas:\n",
      " NAME_EDUCATION_TYPE_Secondary / secondary special    0.049824\n",
      "REG_CITY_NOT_WORK_CITY                               0.050994\n",
      "DAYS_ID_PUBLISH                                      0.051457\n",
      "CODE_GENDER_M                                        0.054713\n",
      "DAYS_LAST_PHONE_CHANGE                               0.055218\n",
      "NAME_INCOME_TYPE_Working                             0.057481\n",
      "REGION_RATING_CLIENT                                 0.058899\n",
      "REGION_RATING_CLIENT_W_CITY                          0.060893\n",
      "DAYS_EMPLOYED                                        0.074958\n",
      "DAYS_BIRTH                                           0.078239\n",
      "TARGET                                               1.000000\n",
      "Name: TARGET, dtype: float64\n",
      "\n",
      "Correlaciones mas negativas:\n",
      " EXT_SOURCE_3                           -0.178919\n",
      "EXT_SOURCE_2                           -0.160472\n",
      "EXT_SOURCE_1                           -0.155317\n",
      "NAME_EDUCATION_TYPE_Higher education   -0.056593\n",
      "CODE_GENDER_F                          -0.054704\n",
      "NAME_INCOME_TYPE_Pensioner             -0.046209\n",
      "ORGANIZATION_TYPE_XNA                  -0.045987\n",
      "FLOORSMAX_AVG                          -0.044003\n",
      "FLOORSMAX_MEDI                         -0.043768\n",
      "FLOORSMAX_MODE                         -0.043226\n",
      "Name: TARGET, dtype: float64\n"
     ]
    }
   ],
   "source": [
    "print('Correlaciones mas positivas:\\n', correlations.tail(11))\n",
    "print('\\nCorrelaciones mas negativas:\\n', correlations.head(10))"
   ]
  },
  {
   "cell_type": "markdown",
   "metadata": {},
   "source": [
    "Para efectos de Feature Engineering se van a añadir las siguientes variables:\n",
    "\n",
    "CREDITINC_PERCENT: cuanto porcentaje representa el credito en los ingresos del cliente\n",
    "\n",
    "ANNINC_PERCENT: anualmente cuando porcentaje es el credito de los ingresos del cliente\n",
    "\n",
    "EMPLOYMENTDAYS_PERCENT: por cuanto tiempo en la vida total del cliente a trabajado\n",
    "\n",
    "MORE_2_CHILDREN: si tiene mas de dos hijos, por el tema de costos elevados\n",
    "\n",
    "MEAN_EXT_SOURCE: promedio de las tres referencias externas\n",
    "\n",
    "DISTANCE_EXTS_COM: distancia al promedio de MEAN_EXT_SOURCE que tienen los valores positivos en dfTtrain"
   ]
  },
  {
   "cell_type": "markdown",
   "metadata": {},
   "source": [
    "Añadir variables a train"
   ]
  },
  {
   "cell_type": "code",
   "execution_count": 12,
   "metadata": {},
   "outputs": [],
   "source": [
    "dfTrain['CREDITINC_PERCENT'] = dfTrain['AMT_CREDIT'] / dfTrain['AMT_INCOME_TOTAL']\n",
    "dfTrain['ANNINC_PERCENT'] = dfTrain['AMT_ANNUITY'] / dfTrain['AMT_INCOME_TOTAL']\n",
    "dfTrain['EMPLOYMENTDAYS_PERCENT'] = dfTrain['DAYS_EMPLOYED'] / dfTrain['DAYS_BIRTH']\n",
    "dfTrain['MORE_2_CHILDREN'] = dfTrain['CNT_CHILDREN'].map(lambda x: 1 if x > 1 else 0)\n",
    "dfTrain['SUM_EXT_SOURCE'] = dfTrain['EXT_SOURCE_1']+dfTrain['EXT_SOURCE_2']+dfTrain['EXT_SOURCE_3']\n",
    "dfTrain['MEAN_EXT_SOURCES'] = dfTrain['SUM_EXT_SOURCE']/3"
   ]
  },
  {
   "cell_type": "code",
   "execution_count": 13,
   "metadata": {},
   "outputs": [
    {
     "data": {
      "text/plain": [
       "TARGET\n",
       "0    0.520020\n",
       "1    0.401423\n",
       "Name: MEAN_EXT_SOURCES, dtype: float64"
      ]
     },
     "execution_count": 13,
     "metadata": {},
     "output_type": "execute_result"
    }
   ],
   "source": [
    "groupsTarget = dfTrain['MEAN_EXT_SOURCES'].groupby(dfTrain['TARGET'])\n",
    "groupsTarget.mean()"
   ]
  },
  {
   "cell_type": "code",
   "execution_count": 14,
   "metadata": {
    "scrolled": true
   },
   "outputs": [
    {
     "data": {
      "text/plain": [
       "0.5200202378892622"
      ]
     },
     "execution_count": 14,
     "metadata": {},
     "output_type": "execute_result"
    }
   ],
   "source": [
    "disMeanExt = groupsTarget.mean()[0]\n",
    "disMeanExt"
   ]
  },
  {
   "cell_type": "code",
   "execution_count": 15,
   "metadata": {},
   "outputs": [],
   "source": [
    "dfTrain['DISTANCE_EXTS_COM'] = disMeanExt - dfTrain['MEAN_EXT_SOURCES']"
   ]
  },
  {
   "cell_type": "code",
   "execution_count": 70,
   "metadata": {},
   "outputs": [
    {
     "data": {
      "text/html": [
       "<div>\n",
       "<style scoped>\n",
       "    .dataframe tbody tr th:only-of-type {\n",
       "        vertical-align: middle;\n",
       "    }\n",
       "\n",
       "    .dataframe tbody tr th {\n",
       "        vertical-align: top;\n",
       "    }\n",
       "\n",
       "    .dataframe thead th {\n",
       "        text-align: right;\n",
       "    }\n",
       "</style>\n",
       "<table border=\"1\" class=\"dataframe\">\n",
       "  <thead>\n",
       "    <tr style=\"text-align: right;\">\n",
       "      <th></th>\n",
       "      <th>SK_ID_CURR</th>\n",
       "      <th>NAME_CONTRACT_TYPE</th>\n",
       "      <th>FLAG_OWN_CAR</th>\n",
       "      <th>FLAG_OWN_REALTY</th>\n",
       "      <th>CNT_CHILDREN</th>\n",
       "      <th>AMT_INCOME_TOTAL</th>\n",
       "      <th>AMT_CREDIT</th>\n",
       "      <th>AMT_ANNUITY</th>\n",
       "      <th>AMT_GOODS_PRICE</th>\n",
       "      <th>REGION_POPULATION_RELATIVE</th>\n",
       "      <th>...</th>\n",
       "      <th>EMERGENCYSTATE_MODE_No</th>\n",
       "      <th>EMERGENCYSTATE_MODE_Yes</th>\n",
       "      <th>TARGET</th>\n",
       "      <th>CREDITINC_PERCENT</th>\n",
       "      <th>ANNINC_PERCENT</th>\n",
       "      <th>EMPLOYMENTDAYS_PERCENT</th>\n",
       "      <th>MORE_2_CHILDREN</th>\n",
       "      <th>SUM_EXT_SOURCE</th>\n",
       "      <th>MEAN_EXT_SOURCES</th>\n",
       "      <th>DISTANCE_EXTS_COM</th>\n",
       "    </tr>\n",
       "  </thead>\n",
       "  <tbody>\n",
       "    <tr>\n",
       "      <th>0</th>\n",
       "      <td>100002</td>\n",
       "      <td>0</td>\n",
       "      <td>0</td>\n",
       "      <td>1</td>\n",
       "      <td>0</td>\n",
       "      <td>202500.0</td>\n",
       "      <td>406597.5</td>\n",
       "      <td>24700.5</td>\n",
       "      <td>351000.0</td>\n",
       "      <td>0.018801</td>\n",
       "      <td>...</td>\n",
       "      <td>1</td>\n",
       "      <td>0</td>\n",
       "      <td>1</td>\n",
       "      <td>2.007889</td>\n",
       "      <td>0.121978</td>\n",
       "      <td>0.067329</td>\n",
       "      <td>0</td>\n",
       "      <td>0.485361</td>\n",
       "      <td>0.161787</td>\n",
       "      <td>0.358233</td>\n",
       "    </tr>\n",
       "    <tr>\n",
       "      <th>1</th>\n",
       "      <td>100003</td>\n",
       "      <td>0</td>\n",
       "      <td>0</td>\n",
       "      <td>0</td>\n",
       "      <td>0</td>\n",
       "      <td>270000.0</td>\n",
       "      <td>1293502.5</td>\n",
       "      <td>35698.5</td>\n",
       "      <td>1129500.0</td>\n",
       "      <td>0.003541</td>\n",
       "      <td>...</td>\n",
       "      <td>1</td>\n",
       "      <td>0</td>\n",
       "      <td>0</td>\n",
       "      <td>4.790750</td>\n",
       "      <td>0.132217</td>\n",
       "      <td>0.070862</td>\n",
       "      <td>0</td>\n",
       "      <td>NaN</td>\n",
       "      <td>NaN</td>\n",
       "      <td>NaN</td>\n",
       "    </tr>\n",
       "    <tr>\n",
       "      <th>2</th>\n",
       "      <td>100004</td>\n",
       "      <td>1</td>\n",
       "      <td>1</td>\n",
       "      <td>1</td>\n",
       "      <td>0</td>\n",
       "      <td>67500.0</td>\n",
       "      <td>135000.0</td>\n",
       "      <td>6750.0</td>\n",
       "      <td>135000.0</td>\n",
       "      <td>0.010032</td>\n",
       "      <td>...</td>\n",
       "      <td>0</td>\n",
       "      <td>0</td>\n",
       "      <td>0</td>\n",
       "      <td>2.000000</td>\n",
       "      <td>0.100000</td>\n",
       "      <td>0.011814</td>\n",
       "      <td>0</td>\n",
       "      <td>NaN</td>\n",
       "      <td>NaN</td>\n",
       "      <td>NaN</td>\n",
       "    </tr>\n",
       "    <tr>\n",
       "      <th>3</th>\n",
       "      <td>100006</td>\n",
       "      <td>0</td>\n",
       "      <td>0</td>\n",
       "      <td>1</td>\n",
       "      <td>0</td>\n",
       "      <td>135000.0</td>\n",
       "      <td>312682.5</td>\n",
       "      <td>29686.5</td>\n",
       "      <td>297000.0</td>\n",
       "      <td>0.008019</td>\n",
       "      <td>...</td>\n",
       "      <td>0</td>\n",
       "      <td>0</td>\n",
       "      <td>0</td>\n",
       "      <td>2.316167</td>\n",
       "      <td>0.219900</td>\n",
       "      <td>0.159905</td>\n",
       "      <td>0</td>\n",
       "      <td>NaN</td>\n",
       "      <td>NaN</td>\n",
       "      <td>NaN</td>\n",
       "    </tr>\n",
       "    <tr>\n",
       "      <th>4</th>\n",
       "      <td>100007</td>\n",
       "      <td>0</td>\n",
       "      <td>0</td>\n",
       "      <td>1</td>\n",
       "      <td>0</td>\n",
       "      <td>121500.0</td>\n",
       "      <td>513000.0</td>\n",
       "      <td>21865.5</td>\n",
       "      <td>513000.0</td>\n",
       "      <td>0.028663</td>\n",
       "      <td>...</td>\n",
       "      <td>0</td>\n",
       "      <td>0</td>\n",
       "      <td>0</td>\n",
       "      <td>4.222222</td>\n",
       "      <td>0.179963</td>\n",
       "      <td>0.152418</td>\n",
       "      <td>0</td>\n",
       "      <td>NaN</td>\n",
       "      <td>NaN</td>\n",
       "      <td>NaN</td>\n",
       "    </tr>\n",
       "  </tbody>\n",
       "</table>\n",
       "<p>5 rows × 247 columns</p>\n",
       "</div>"
      ],
      "text/plain": [
       "   SK_ID_CURR  NAME_CONTRACT_TYPE  FLAG_OWN_CAR  FLAG_OWN_REALTY  \\\n",
       "0      100002                   0             0                1   \n",
       "1      100003                   0             0                0   \n",
       "2      100004                   1             1                1   \n",
       "3      100006                   0             0                1   \n",
       "4      100007                   0             0                1   \n",
       "\n",
       "   CNT_CHILDREN  AMT_INCOME_TOTAL  AMT_CREDIT  AMT_ANNUITY  AMT_GOODS_PRICE  \\\n",
       "0             0          202500.0    406597.5      24700.5         351000.0   \n",
       "1             0          270000.0   1293502.5      35698.5        1129500.0   \n",
       "2             0           67500.0    135000.0       6750.0         135000.0   \n",
       "3             0          135000.0    312682.5      29686.5         297000.0   \n",
       "4             0          121500.0    513000.0      21865.5         513000.0   \n",
       "\n",
       "   REGION_POPULATION_RELATIVE        ...          EMERGENCYSTATE_MODE_No  \\\n",
       "0                    0.018801        ...                               1   \n",
       "1                    0.003541        ...                               1   \n",
       "2                    0.010032        ...                               0   \n",
       "3                    0.008019        ...                               0   \n",
       "4                    0.028663        ...                               0   \n",
       "\n",
       "   EMERGENCYSTATE_MODE_Yes  TARGET  CREDITINC_PERCENT  ANNINC_PERCENT  \\\n",
       "0                        0       1           2.007889        0.121978   \n",
       "1                        0       0           4.790750        0.132217   \n",
       "2                        0       0           2.000000        0.100000   \n",
       "3                        0       0           2.316167        0.219900   \n",
       "4                        0       0           4.222222        0.179963   \n",
       "\n",
       "   EMPLOYMENTDAYS_PERCENT  MORE_2_CHILDREN  SUM_EXT_SOURCE  MEAN_EXT_SOURCES  \\\n",
       "0                0.067329                0        0.485361          0.161787   \n",
       "1                0.070862                0             NaN               NaN   \n",
       "2                0.011814                0             NaN               NaN   \n",
       "3                0.159905                0             NaN               NaN   \n",
       "4                0.152418                0             NaN               NaN   \n",
       "\n",
       "   DISTANCE_EXTS_COM  \n",
       "0           0.358233  \n",
       "1                NaN  \n",
       "2                NaN  \n",
       "3                NaN  \n",
       "4                NaN  \n",
       "\n",
       "[5 rows x 247 columns]"
      ]
     },
     "execution_count": 70,
     "metadata": {},
     "output_type": "execute_result"
    }
   ],
   "source": [
    "dfTrain.head()"
   ]
  },
  {
   "cell_type": "markdown",
   "metadata": {},
   "source": [
    "Añadir variables a test"
   ]
  },
  {
   "cell_type": "code",
   "execution_count": 16,
   "metadata": {},
   "outputs": [],
   "source": [
    "dfTest['CREDITINC_PERCENT'] = dfTest['AMT_CREDIT'] / dfTest['AMT_INCOME_TOTAL']\n",
    "dfTest['ANNINC_PERCENT'] = dfTest['AMT_ANNUITY'] / dfTest['AMT_INCOME_TOTAL']\n",
    "dfTest['EMPLOYMENTDAYS_PERCENT'] = dfTest['DAYS_EMPLOYED'] / dfTest['DAYS_BIRTH']\n",
    "dfTest['MORE_2_CHILDREN'] = dfTest['CNT_CHILDREN'].map(lambda x: 1 if x > 1 else 0)\n",
    "dfTest['SUM_EXT_SOURCE'] = dfTest['EXT_SOURCE_1']+dfTest['EXT_SOURCE_2']+dfTest['EXT_SOURCE_3']\n",
    "dfTest['MEAN_EXT_SOURCES'] = dfTest['SUM_EXT_SOURCE']/3\n",
    "dfTest['DISTANCE_EXTS_COM'] = disMeanExt - dfTest['MEAN_EXT_SOURCES']"
   ]
  },
  {
   "cell_type": "code",
   "execution_count": 72,
   "metadata": {},
   "outputs": [
    {
     "data": {
      "text/html": [
       "<div>\n",
       "<style scoped>\n",
       "    .dataframe tbody tr th:only-of-type {\n",
       "        vertical-align: middle;\n",
       "    }\n",
       "\n",
       "    .dataframe tbody tr th {\n",
       "        vertical-align: top;\n",
       "    }\n",
       "\n",
       "    .dataframe thead th {\n",
       "        text-align: right;\n",
       "    }\n",
       "</style>\n",
       "<table border=\"1\" class=\"dataframe\">\n",
       "  <thead>\n",
       "    <tr style=\"text-align: right;\">\n",
       "      <th></th>\n",
       "      <th>SK_ID_CURR</th>\n",
       "      <th>NAME_CONTRACT_TYPE</th>\n",
       "      <th>FLAG_OWN_CAR</th>\n",
       "      <th>FLAG_OWN_REALTY</th>\n",
       "      <th>CNT_CHILDREN</th>\n",
       "      <th>AMT_INCOME_TOTAL</th>\n",
       "      <th>AMT_CREDIT</th>\n",
       "      <th>AMT_ANNUITY</th>\n",
       "      <th>AMT_GOODS_PRICE</th>\n",
       "      <th>REGION_POPULATION_RELATIVE</th>\n",
       "      <th>...</th>\n",
       "      <th>WALLSMATERIAL_MODE_Wooden</th>\n",
       "      <th>EMERGENCYSTATE_MODE_No</th>\n",
       "      <th>EMERGENCYSTATE_MODE_Yes</th>\n",
       "      <th>CREDITINC_PERCENT</th>\n",
       "      <th>ANNINC_PERCENT</th>\n",
       "      <th>EMPLOYMENTDAYS_PERCENT</th>\n",
       "      <th>MORE_2_CHILDREN</th>\n",
       "      <th>SUM_EXT_SOURCE</th>\n",
       "      <th>MEAN_EXT_SOURCES</th>\n",
       "      <th>DISTANCE_EXTS_COM</th>\n",
       "    </tr>\n",
       "  </thead>\n",
       "  <tbody>\n",
       "    <tr>\n",
       "      <th>0</th>\n",
       "      <td>100001</td>\n",
       "      <td>0</td>\n",
       "      <td>0</td>\n",
       "      <td>1</td>\n",
       "      <td>0</td>\n",
       "      <td>135000.0</td>\n",
       "      <td>568800.0</td>\n",
       "      <td>20560.5</td>\n",
       "      <td>450000.0</td>\n",
       "      <td>0.018850</td>\n",
       "      <td>...</td>\n",
       "      <td>0</td>\n",
       "      <td>1</td>\n",
       "      <td>0</td>\n",
       "      <td>4.213333</td>\n",
       "      <td>0.152300</td>\n",
       "      <td>0.121044</td>\n",
       "      <td>0</td>\n",
       "      <td>1.701788</td>\n",
       "      <td>0.567263</td>\n",
       "      <td>-0.047243</td>\n",
       "    </tr>\n",
       "    <tr>\n",
       "      <th>1</th>\n",
       "      <td>100005</td>\n",
       "      <td>0</td>\n",
       "      <td>0</td>\n",
       "      <td>1</td>\n",
       "      <td>0</td>\n",
       "      <td>99000.0</td>\n",
       "      <td>222768.0</td>\n",
       "      <td>17370.0</td>\n",
       "      <td>180000.0</td>\n",
       "      <td>0.035792</td>\n",
       "      <td>...</td>\n",
       "      <td>0</td>\n",
       "      <td>0</td>\n",
       "      <td>0</td>\n",
       "      <td>2.250182</td>\n",
       "      <td>0.175455</td>\n",
       "      <td>0.247398</td>\n",
       "      <td>0</td>\n",
       "      <td>1.289607</td>\n",
       "      <td>0.429869</td>\n",
       "      <td>0.090151</td>\n",
       "    </tr>\n",
       "    <tr>\n",
       "      <th>2</th>\n",
       "      <td>100013</td>\n",
       "      <td>0</td>\n",
       "      <td>1</td>\n",
       "      <td>1</td>\n",
       "      <td>0</td>\n",
       "      <td>202500.0</td>\n",
       "      <td>663264.0</td>\n",
       "      <td>69777.0</td>\n",
       "      <td>630000.0</td>\n",
       "      <td>0.019101</td>\n",
       "      <td>...</td>\n",
       "      <td>0</td>\n",
       "      <td>0</td>\n",
       "      <td>0</td>\n",
       "      <td>3.275378</td>\n",
       "      <td>0.344578</td>\n",
       "      <td>0.222477</td>\n",
       "      <td>0</td>\n",
       "      <td>NaN</td>\n",
       "      <td>NaN</td>\n",
       "      <td>NaN</td>\n",
       "    </tr>\n",
       "    <tr>\n",
       "      <th>3</th>\n",
       "      <td>100028</td>\n",
       "      <td>0</td>\n",
       "      <td>0</td>\n",
       "      <td>1</td>\n",
       "      <td>2</td>\n",
       "      <td>315000.0</td>\n",
       "      <td>1575000.0</td>\n",
       "      <td>49018.5</td>\n",
       "      <td>1575000.0</td>\n",
       "      <td>0.026392</td>\n",
       "      <td>...</td>\n",
       "      <td>0</td>\n",
       "      <td>1</td>\n",
       "      <td>0</td>\n",
       "      <td>5.000000</td>\n",
       "      <td>0.155614</td>\n",
       "      <td>0.133515</td>\n",
       "      <td>1</td>\n",
       "      <td>1.648115</td>\n",
       "      <td>0.549372</td>\n",
       "      <td>-0.029352</td>\n",
       "    </tr>\n",
       "    <tr>\n",
       "      <th>4</th>\n",
       "      <td>100038</td>\n",
       "      <td>0</td>\n",
       "      <td>1</td>\n",
       "      <td>0</td>\n",
       "      <td>1</td>\n",
       "      <td>180000.0</td>\n",
       "      <td>625500.0</td>\n",
       "      <td>32067.0</td>\n",
       "      <td>625500.0</td>\n",
       "      <td>0.010032</td>\n",
       "      <td>...</td>\n",
       "      <td>0</td>\n",
       "      <td>0</td>\n",
       "      <td>0</td>\n",
       "      <td>3.475000</td>\n",
       "      <td>0.178150</td>\n",
       "      <td>0.168021</td>\n",
       "      <td>0</td>\n",
       "      <td>NaN</td>\n",
       "      <td>NaN</td>\n",
       "      <td>NaN</td>\n",
       "    </tr>\n",
       "  </tbody>\n",
       "</table>\n",
       "<p>5 rows × 246 columns</p>\n",
       "</div>"
      ],
      "text/plain": [
       "   SK_ID_CURR  NAME_CONTRACT_TYPE  FLAG_OWN_CAR  FLAG_OWN_REALTY  \\\n",
       "0      100001                   0             0                1   \n",
       "1      100005                   0             0                1   \n",
       "2      100013                   0             1                1   \n",
       "3      100028                   0             0                1   \n",
       "4      100038                   0             1                0   \n",
       "\n",
       "   CNT_CHILDREN  AMT_INCOME_TOTAL  AMT_CREDIT  AMT_ANNUITY  AMT_GOODS_PRICE  \\\n",
       "0             0          135000.0    568800.0      20560.5         450000.0   \n",
       "1             0           99000.0    222768.0      17370.0         180000.0   \n",
       "2             0          202500.0    663264.0      69777.0         630000.0   \n",
       "3             2          315000.0   1575000.0      49018.5        1575000.0   \n",
       "4             1          180000.0    625500.0      32067.0         625500.0   \n",
       "\n",
       "   REGION_POPULATION_RELATIVE        ...          WALLSMATERIAL_MODE_Wooden  \\\n",
       "0                    0.018850        ...                                  0   \n",
       "1                    0.035792        ...                                  0   \n",
       "2                    0.019101        ...                                  0   \n",
       "3                    0.026392        ...                                  0   \n",
       "4                    0.010032        ...                                  0   \n",
       "\n",
       "   EMERGENCYSTATE_MODE_No  EMERGENCYSTATE_MODE_Yes  CREDITINC_PERCENT  \\\n",
       "0                       1                        0           4.213333   \n",
       "1                       0                        0           2.250182   \n",
       "2                       0                        0           3.275378   \n",
       "3                       1                        0           5.000000   \n",
       "4                       0                        0           3.475000   \n",
       "\n",
       "   ANNINC_PERCENT  EMPLOYMENTDAYS_PERCENT  MORE_2_CHILDREN  SUM_EXT_SOURCE  \\\n",
       "0        0.152300                0.121044                0        1.701788   \n",
       "1        0.175455                0.247398                0        1.289607   \n",
       "2        0.344578                0.222477                0             NaN   \n",
       "3        0.155614                0.133515                1        1.648115   \n",
       "4        0.178150                0.168021                0             NaN   \n",
       "\n",
       "   MEAN_EXT_SOURCES  DISTANCE_EXTS_COM  \n",
       "0          0.567263          -0.047243  \n",
       "1          0.429869           0.090151  \n",
       "2               NaN                NaN  \n",
       "3          0.549372          -0.029352  \n",
       "4               NaN                NaN  \n",
       "\n",
       "[5 rows x 246 columns]"
      ]
     },
     "execution_count": 72,
     "metadata": {},
     "output_type": "execute_result"
    }
   ],
   "source": [
    "dfTest.head()"
   ]
  },
  {
   "cell_type": "markdown",
   "metadata": {},
   "source": [
    "### Modelos"
   ]
  },
  {
   "cell_type": "code",
   "execution_count": 17,
   "metadata": {},
   "outputs": [],
   "source": [
    "# Preparamos dfTrain:\n",
    "dfTrain = dfTrain.drop('TARGET', axis=1) #Recordad Target as targetLabel\n",
    "\n",
    "nanReplacer = Imputer(strategy='median')\n",
    "\n",
    "nanReplacer.fit(dfTrain)\n",
    "\n",
    "train1 = nanReplacer.transform(dfTrain)\n",
    "testF = nanReplacer.transform(dfTest)\n",
    "\n",
    "XTrain, XVal, ytrain, yval = train_test_split(train1, targetLabel, test_size=0.3)"
   ]
  },
  {
   "cell_type": "markdown",
   "metadata": {},
   "source": [
    "#### Decision Tree"
   ]
  },
  {
   "cell_type": "code",
   "execution_count": 104,
   "metadata": {},
   "outputs": [
    {
     "data": {
      "text/plain": [
       "Pipeline(memory=None,\n",
       "     steps=[('reg', DecisionTreeClassifier(class_weight=None, criterion='entropy', max_depth=None,\n",
       "            max_features=None, max_leaf_nodes=None,\n",
       "            min_impurity_decrease=0.0, min_impurity_split=None,\n",
       "            min_samples_leaf=1, min_samples_split=2,\n",
       "            min_weight_fraction_leaf=0.0, presort=False, random_state=None,\n",
       "            splitter='best'))])"
      ]
     },
     "execution_count": 104,
     "metadata": {},
     "output_type": "execute_result"
    }
   ],
   "source": [
    "dt = Pipeline(\n",
    "    [\n",
    "        #('scaler', MinMaxScaler()),\n",
    "        ('reg', DecisionTreeClassifier(criterion='entropy'))\n",
    "    ]\n",
    ")\n",
    "dt.fit(XTrain, ytrain)"
   ]
  },
  {
   "cell_type": "code",
   "execution_count": 105,
   "metadata": {},
   "outputs": [
    {
     "data": {
      "text/plain": [
       "1.0"
      ]
     },
     "execution_count": 105,
     "metadata": {},
     "output_type": "execute_result"
    }
   ],
   "source": [
    "train_score = f1_score(ytrain, dt.predict(XTrain))\n",
    "train_score"
   ]
  },
  {
   "cell_type": "code",
   "execution_count": 106,
   "metadata": {},
   "outputs": [
    {
     "data": {
      "text/plain": [
       "0.15991902834008098"
      ]
     },
     "execution_count": 106,
     "metadata": {},
     "output_type": "execute_result"
    }
   ],
   "source": [
    "val_score = f1_score(yval, dt.predict(XVal))\n",
    "val_score"
   ]
  },
  {
   "cell_type": "code",
   "execution_count": 107,
   "metadata": {},
   "outputs": [
    {
     "name": "stdout",
     "output_type": "stream",
     "text": [
      "1.0\n",
      "0.8560496021852712\n"
     ]
    }
   ],
   "source": [
    "train_score_acc = accuracy_score(ytrain, dt.predict(XTrain))\n",
    "val_score_acc = accuracy_score(yval, dt.predict(XVal))\n",
    "print(train_score_acc)\n",
    "print(val_score_acc)"
   ]
  },
  {
   "cell_type": "markdown",
   "metadata": {},
   "source": [
    "#### Random Forest"
   ]
  },
  {
   "cell_type": "code",
   "execution_count": 109,
   "metadata": {},
   "outputs": [
    {
     "data": {
      "text/plain": [
       "Pipeline(memory=None,\n",
       "     steps=[('reg', RandomForestClassifier(bootstrap=True, class_weight=None, criterion='entropy',\n",
       "            max_depth=None, max_features='auto', max_leaf_nodes=None,\n",
       "            min_impurity_decrease=0.0, min_impurity_split=None,\n",
       "            min_samples_leaf=1, min_samples_split=2,\n",
       "            min_weight_fraction_leaf=0.0, n_estimators=10, n_jobs=1,\n",
       "            oob_score=False, random_state=None, verbose=0,\n",
       "            warm_start=False))])"
      ]
     },
     "execution_count": 109,
     "metadata": {},
     "output_type": "execute_result"
    }
   ],
   "source": [
    "rf = Pipeline(\n",
    "    [\n",
    "        #('scaler', MinMaxScaler()),\n",
    "        ('reg', RandomForestClassifier(criterion='entropy'))\n",
    "    ]\n",
    ")\n",
    "rf.fit(XTrain, ytrain)"
   ]
  },
  {
   "cell_type": "code",
   "execution_count": 110,
   "metadata": {},
   "outputs": [
    {
     "data": {
      "text/plain": [
       "0.8986895960909985"
      ]
     },
     "execution_count": 110,
     "metadata": {},
     "output_type": "execute_result"
    }
   ],
   "source": [
    "train_score = f1_score(ytrain, rf.predict(XTrain))\n",
    "train_score"
   ]
  },
  {
   "cell_type": "code",
   "execution_count": 111,
   "metadata": {},
   "outputs": [
    {
     "data": {
      "text/plain": [
       "0.023198227551153392"
      ]
     },
     "execution_count": 111,
     "metadata": {},
     "output_type": "execute_result"
    }
   ],
   "source": [
    "val_score = f1_score(yval, rf.predict(XVal))\n",
    "val_score"
   ]
  },
  {
   "cell_type": "code",
   "execution_count": 112,
   "metadata": {},
   "outputs": [
    {
     "name": "stdout",
     "output_type": "stream",
     "text": [
      "0.9851665683345954\n",
      "0.9187569102694734\n"
     ]
    }
   ],
   "source": [
    "train_score_acc = accuracy_score(ytrain, rf.predict(XTrain))\n",
    "val_score_acc = accuracy_score(yval, rf.predict(XVal))\n",
    "print(train_score_acc)\n",
    "print(val_score_acc)"
   ]
  },
  {
   "cell_type": "code",
   "execution_count": 117,
   "metadata": {},
   "outputs": [
    {
     "name": "stdout",
     "output_type": "stream",
     "text": [
      "100\n",
      "200\n",
      "300\n",
      "400\n",
      "500\n"
     ]
    },
    {
     "data": {
      "text/plain": [
       "<matplotlib.legend.Legend at 0x229802cd4a8>"
      ]
     },
     "execution_count": 117,
     "metadata": {},
     "output_type": "execute_result"
    },
    {
     "data": {
      "image/png": "[encoded data removed]",
      "text/plain": [
       "<Figure size 504x360 with 1 Axes>"
      ]
     },
     "metadata": {},
     "output_type": "display_data"
    }
   ],
   "source": [
    "# Listas para guardar el score\n",
    "train_scores = []\n",
    "val_scores = []\n",
    "param_range = [100, 200, 300, 400, 500]\n",
    "for f in param_range:\n",
    "    \n",
    "    clf = RandomForestClassifier(n_estimators=f ,criterion='entropy')\n",
    "    \n",
    "    clf.fit(XTrain, ytrain)\n",
    "    y_train_pred = clf.predict(XTrain)\n",
    "    y_val_pred = clf.predict(XVal)\n",
    "    \n",
    "    train_score = accuracy_score(ytrain, y_train_pred)\n",
    "    val_score = accuracy_score(yval, y_val_pred)\n",
    "    \n",
    "    train_scores.append(train_score)\n",
    "    val_scores.append(val_score)\n",
    "    print (f)\n",
    "    \n",
    "\n",
    "# plot the scores along the diffent values of the hiper parameter\n",
    "fig = plt.figure(figsize=(7,5))\n",
    "ax = fig.add_subplot(111)\n",
    "ax.plot(\n",
    "    param_range, train_scores, color='blue',\n",
    "    marker='o', linestyle='-', markersize=5, \n",
    "    label='Training data'\n",
    ")\n",
    "\n",
    "ax.plot(\n",
    "    param_range, val_scores, color='green',\n",
    "    marker='s', linestyle='--', markersize=5, \n",
    "    label='Validation data'\n",
    ")\n",
    "\n",
    "ax.set_xscale('log')\n",
    "ax.set_xlabel('Hiperparameter n_estimators')\n",
    "ax.set_ylabel('Accuracy')\n",
    "ax.set_ylim(min(min(train_scores, val_scores)) - 0.1, 1)\n",
    "ax.grid(linestyle='--')\n",
    "ax.legend(loc='lower right')"
   ]
  },
  {
   "cell_type": "markdown",
   "metadata": {},
   "source": [
    "#### SVC"
   ]
  },
  {
   "cell_type": "code",
   "execution_count": null,
   "metadata": {},
   "outputs": [],
   "source": [
    "sv = Pipeline(\n",
    "    [\n",
    "        ('scaler', StandardScaler()),\n",
    "        ('reg', LinearSVC())\n",
    "    ]\n",
    ")\n",
    "sv.fit(XTrain, ytrain)"
   ]
  },
  {
   "cell_type": "code",
   "execution_count": null,
   "metadata": {},
   "outputs": [],
   "source": [
    "train_score = f1_score(ytrain, sv.predict(XTrain))\n",
    "train_score"
   ]
  },
  {
   "cell_type": "code",
   "execution_count": null,
   "metadata": {},
   "outputs": [],
   "source": [
    "val_score = f1_score(yval, sv.predict(XVal))\n",
    "val_score"
   ]
  },
  {
   "cell_type": "code",
   "execution_count": null,
   "metadata": {},
   "outputs": [],
   "source": [
    "train_score_acc = accuracy_score(ytrain, sv.predict(XTrain))\n",
    "val_score_acc = accuracy_score(yval, sv.predict(XVal))\n",
    "print(train_score_acc)\n",
    "print(val_score_acc)"
   ]
  },
  {
   "cell_type": "markdown",
   "metadata": {},
   "source": []
  }
 ],
 "metadata": {
  "kernelspec": {
   "display_name": "Python 3",
   "language": "python",
   "name": "python3"
  },
  "language_info": {
   "codemirror_mode": {
    "name": "ipython",
    "version": 3
   },
   "file_extension": ".py",
   "mimetype": "text/x-python",
   "name": "python",
   "nbconvert_exporter": "python",
   "pygments_lexer": "ipython3",
   "version": "3.6.5"
  }
 },
 "nbformat": 4,
 "nbformat_minor": 2
}
